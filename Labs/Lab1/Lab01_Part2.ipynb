{
  "nbformat": 4,
  "nbformat_minor": 0,
  "metadata": {
    "colab": {
      "provenance": []
    },
    "kernelspec": {
      "name": "python3",
      "display_name": "Python 3"
    },
    "language_info": {
      "name": "python"
    }
  },
  "cells": [
    {
      "cell_type": "markdown",
      "source": [
        "# 1. Example"
      ],
      "metadata": {
        "id": "6CPcwVpktLl4"
      }
    },
    {
      "cell_type": "markdown",
      "source": [
        "**1.1 Load data with pandas**"
      ],
      "metadata": {
        "id": "-ohAyt2VsKoJ"
      }
    },
    {
      "cell_type": "code",
      "source": [
        "from google.colab import drive\n",
        "drive.mount('/content/drive')"
      ],
      "metadata": {
        "colab": {
          "base_uri": "https://localhost:8080/"
        },
        "id": "I8D3Su3DyaIi",
        "outputId": "294f3fa5-bd69-49a1-c988-e5f0543c7490"
      },
      "execution_count": 4,
      "outputs": [
        {
          "output_type": "stream",
          "name": "stdout",
          "text": [
            "Mounted at /content/drive\n"
          ]
        }
      ]
    },
    {
      "cell_type": "code",
      "source": [
        "from google.colab import files\n",
        "uploaded = files.upload()"
      ],
      "metadata": {
        "colab": {
          "base_uri": "https://localhost:8080/",
          "height": 74
        },
        "id": "pw5IfiAryfuK",
        "outputId": "b03baad0-ab29-4dda-e545-abd938f3f6d2"
      },
      "execution_count": 5,
      "outputs": [
        {
          "output_type": "display_data",
          "data": {
            "text/plain": [
              "<IPython.core.display.HTML object>"
            ],
            "text/html": [
              "\n",
              "     <input type=\"file\" id=\"files-b79fa250-c297-4851-909d-1149478f98ef\" name=\"files[]\" multiple disabled\n",
              "        style=\"border:none\" />\n",
              "     <output id=\"result-b79fa250-c297-4851-909d-1149478f98ef\">\n",
              "      Upload widget is only available when the cell has been executed in the\n",
              "      current browser session. Please rerun this cell to enable.\n",
              "      </output>\n",
              "      <script>// Copyright 2017 Google LLC\n",
              "//\n",
              "// Licensed under the Apache License, Version 2.0 (the \"License\");\n",
              "// you may not use this file except in compliance with the License.\n",
              "// You may obtain a copy of the License at\n",
              "//\n",
              "//      http://www.apache.org/licenses/LICENSE-2.0\n",
              "//\n",
              "// Unless required by applicable law or agreed to in writing, software\n",
              "// distributed under the License is distributed on an \"AS IS\" BASIS,\n",
              "// WITHOUT WARRANTIES OR CONDITIONS OF ANY KIND, either express or implied.\n",
              "// See the License for the specific language governing permissions and\n",
              "// limitations under the License.\n",
              "\n",
              "/**\n",
              " * @fileoverview Helpers for google.colab Python module.\n",
              " */\n",
              "(function(scope) {\n",
              "function span(text, styleAttributes = {}) {\n",
              "  const element = document.createElement('span');\n",
              "  element.textContent = text;\n",
              "  for (const key of Object.keys(styleAttributes)) {\n",
              "    element.style[key] = styleAttributes[key];\n",
              "  }\n",
              "  return element;\n",
              "}\n",
              "\n",
              "// Max number of bytes which will be uploaded at a time.\n",
              "const MAX_PAYLOAD_SIZE = 100 * 1024;\n",
              "\n",
              "function _uploadFiles(inputId, outputId) {\n",
              "  const steps = uploadFilesStep(inputId, outputId);\n",
              "  const outputElement = document.getElementById(outputId);\n",
              "  // Cache steps on the outputElement to make it available for the next call\n",
              "  // to uploadFilesContinue from Python.\n",
              "  outputElement.steps = steps;\n",
              "\n",
              "  return _uploadFilesContinue(outputId);\n",
              "}\n",
              "\n",
              "// This is roughly an async generator (not supported in the browser yet),\n",
              "// where there are multiple asynchronous steps and the Python side is going\n",
              "// to poll for completion of each step.\n",
              "// This uses a Promise to block the python side on completion of each step,\n",
              "// then passes the result of the previous step as the input to the next step.\n",
              "function _uploadFilesContinue(outputId) {\n",
              "  const outputElement = document.getElementById(outputId);\n",
              "  const steps = outputElement.steps;\n",
              "\n",
              "  const next = steps.next(outputElement.lastPromiseValue);\n",
              "  return Promise.resolve(next.value.promise).then((value) => {\n",
              "    // Cache the last promise value to make it available to the next\n",
              "    // step of the generator.\n",
              "    outputElement.lastPromiseValue = value;\n",
              "    return next.value.response;\n",
              "  });\n",
              "}\n",
              "\n",
              "/**\n",
              " * Generator function which is called between each async step of the upload\n",
              " * process.\n",
              " * @param {string} inputId Element ID of the input file picker element.\n",
              " * @param {string} outputId Element ID of the output display.\n",
              " * @return {!Iterable<!Object>} Iterable of next steps.\n",
              " */\n",
              "function* uploadFilesStep(inputId, outputId) {\n",
              "  const inputElement = document.getElementById(inputId);\n",
              "  inputElement.disabled = false;\n",
              "\n",
              "  const outputElement = document.getElementById(outputId);\n",
              "  outputElement.innerHTML = '';\n",
              "\n",
              "  const pickedPromise = new Promise((resolve) => {\n",
              "    inputElement.addEventListener('change', (e) => {\n",
              "      resolve(e.target.files);\n",
              "    });\n",
              "  });\n",
              "\n",
              "  const cancel = document.createElement('button');\n",
              "  inputElement.parentElement.appendChild(cancel);\n",
              "  cancel.textContent = 'Cancel upload';\n",
              "  const cancelPromise = new Promise((resolve) => {\n",
              "    cancel.onclick = () => {\n",
              "      resolve(null);\n",
              "    };\n",
              "  });\n",
              "\n",
              "  // Wait for the user to pick the files.\n",
              "  const files = yield {\n",
              "    promise: Promise.race([pickedPromise, cancelPromise]),\n",
              "    response: {\n",
              "      action: 'starting',\n",
              "    }\n",
              "  };\n",
              "\n",
              "  cancel.remove();\n",
              "\n",
              "  // Disable the input element since further picks are not allowed.\n",
              "  inputElement.disabled = true;\n",
              "\n",
              "  if (!files) {\n",
              "    return {\n",
              "      response: {\n",
              "        action: 'complete',\n",
              "      }\n",
              "    };\n",
              "  }\n",
              "\n",
              "  for (const file of files) {\n",
              "    const li = document.createElement('li');\n",
              "    li.append(span(file.name, {fontWeight: 'bold'}));\n",
              "    li.append(span(\n",
              "        `(${file.type || 'n/a'}) - ${file.size} bytes, ` +\n",
              "        `last modified: ${\n",
              "            file.lastModifiedDate ? file.lastModifiedDate.toLocaleDateString() :\n",
              "                                    'n/a'} - `));\n",
              "    const percent = span('0% done');\n",
              "    li.appendChild(percent);\n",
              "\n",
              "    outputElement.appendChild(li);\n",
              "\n",
              "    const fileDataPromise = new Promise((resolve) => {\n",
              "      const reader = new FileReader();\n",
              "      reader.onload = (e) => {\n",
              "        resolve(e.target.result);\n",
              "      };\n",
              "      reader.readAsArrayBuffer(file);\n",
              "    });\n",
              "    // Wait for the data to be ready.\n",
              "    let fileData = yield {\n",
              "      promise: fileDataPromise,\n",
              "      response: {\n",
              "        action: 'continue',\n",
              "      }\n",
              "    };\n",
              "\n",
              "    // Use a chunked sending to avoid message size limits. See b/62115660.\n",
              "    let position = 0;\n",
              "    do {\n",
              "      const length = Math.min(fileData.byteLength - position, MAX_PAYLOAD_SIZE);\n",
              "      const chunk = new Uint8Array(fileData, position, length);\n",
              "      position += length;\n",
              "\n",
              "      const base64 = btoa(String.fromCharCode.apply(null, chunk));\n",
              "      yield {\n",
              "        response: {\n",
              "          action: 'append',\n",
              "          file: file.name,\n",
              "          data: base64,\n",
              "        },\n",
              "      };\n",
              "\n",
              "      let percentDone = fileData.byteLength === 0 ?\n",
              "          100 :\n",
              "          Math.round((position / fileData.byteLength) * 100);\n",
              "      percent.textContent = `${percentDone}% done`;\n",
              "\n",
              "    } while (position < fileData.byteLength);\n",
              "  }\n",
              "\n",
              "  // All done.\n",
              "  yield {\n",
              "    response: {\n",
              "      action: 'complete',\n",
              "    }\n",
              "  };\n",
              "}\n",
              "\n",
              "scope.google = scope.google || {};\n",
              "scope.google.colab = scope.google.colab || {};\n",
              "scope.google.colab._files = {\n",
              "  _uploadFiles,\n",
              "  _uploadFilesContinue,\n",
              "};\n",
              "})(self);\n",
              "</script> "
            ]
          },
          "metadata": {}
        },
        {
          "output_type": "stream",
          "name": "stdout",
          "text": [
            "Saving cars.csv to cars.csv\n"
          ]
        }
      ]
    },
    {
      "cell_type": "code",
      "execution_count": 1,
      "metadata": {
        "id": "9R4EMcE_rNFY"
      },
      "outputs": [],
      "source": [
        "import numpy as np\n",
        "import pandas as pd"
      ]
    },
    {
      "cell_type": "code",
      "source": [
        "#Load data with pandas\n",
        "df = pd.read_csv(\"cars.csv\")\n",
        "print(df)"
      ],
      "metadata": {
        "colab": {
          "base_uri": "https://localhost:8080/"
        },
        "id": "jVWnh0r7rdfs",
        "outputId": "91b4ac79-0842-44eb-e138-5a553a744b0e"
      },
      "execution_count": 7,
      "outputs": [
        {
          "output_type": "stream",
          "name": "stdout",
          "text": [
            "                           Car   MPG  Cylinders  Displacement  Horsepower  \\\n",
            "0    Chevrolet Chevelle Malibu  18.0          8         307.0         130   \n",
            "1            Buick Skylark 320  15.0          8         350.0         165   \n",
            "2           Plymouth Satellite  18.0          8         318.0         150   \n",
            "3                AMC Rebel SST  16.0          8         304.0         150   \n",
            "4                  Ford Torino  17.0          8         302.0         140   \n",
            "..                         ...   ...        ...           ...         ...   \n",
            "401            Ford Mustang GL  27.0          4         140.0          86   \n",
            "402          Volkswagen Pickup  44.0          4          97.0          52   \n",
            "403              Dodge Rampage  32.0          4         135.0          84   \n",
            "404                Ford Ranger  28.0          4         120.0          79   \n",
            "405                 Chevy S-10  31.0          4         119.0          82   \n",
            "\n",
            "     Weight  Acceleration  Model  Origin  \n",
            "0      3504          12.0     70      US  \n",
            "1      3693          11.5     70      US  \n",
            "2      3436          11.0     70      US  \n",
            "3      3433          12.0     70      US  \n",
            "4      3449          10.5     70      US  \n",
            "..      ...           ...    ...     ...  \n",
            "401    2790          15.6     82      US  \n",
            "402    2130          24.6     82  Europe  \n",
            "403    2295          11.6     82      US  \n",
            "404    2625          18.6     82      US  \n",
            "405    2720          19.4     82      US  \n",
            "\n",
            "[406 rows x 9 columns]\n"
          ]
        }
      ]
    },
    {
      "cell_type": "code",
      "source": [
        "#Convert a pandas dataframe to a numpy array\n",
        "X = df.values[:, 1:-1]\n",
        "print(type(X))\n",
        "print(X.shape)\n",
        "print(X)"
      ],
      "metadata": {
        "colab": {
          "base_uri": "https://localhost:8080/"
        },
        "id": "ezc3Ndb6rxb0",
        "outputId": "33377c67-53d1-41d8-e5c2-208bfffd26b7"
      },
      "execution_count": 8,
      "outputs": [
        {
          "output_type": "stream",
          "name": "stdout",
          "text": [
            "<class 'numpy.ndarray'>\n",
            "(406, 7)\n",
            "[[18.0 8 307.0 ... 3504 12.0 70]\n",
            " [15.0 8 350.0 ... 3693 11.5 70]\n",
            " [18.0 8 318.0 ... 3436 11.0 70]\n",
            " ...\n",
            " [32.0 4 135.0 ... 2295 11.6 82]\n",
            " [28.0 4 120.0 ... 2625 18.6 82]\n",
            " [31.0 4 119.0 ... 2720 19.4 82]]\n"
          ]
        }
      ]
    },
    {
      "cell_type": "markdown",
      "source": [
        "**1.2 Operation for vector**"
      ],
      "metadata": {
        "id": "UD6-_xYtsR8D"
      }
    },
    {
      "cell_type": "code",
      "source": [
        "#Get the first row and the second to last row\n",
        "x1 = X[0, :]\n",
        "x2 = X[-2, :]\n",
        "\n",
        "print(x1)\n",
        "print(x2)\n",
        "\n",
        "#Addition\n",
        "y = x1 + x2\n",
        "print(y)"
      ],
      "metadata": {
        "colab": {
          "base_uri": "https://localhost:8080/"
        },
        "id": "cx2QycmDsZCv",
        "outputId": "6253d6b4-abec-4827-d1d1-7bcc8b09970d"
      },
      "execution_count": 9,
      "outputs": [
        {
          "output_type": "stream",
          "name": "stdout",
          "text": [
            "[18.0 8 307.0 130 3504 12.0 70]\n",
            "[28.0 4 120.0 79 2625 18.6 82]\n",
            "[46.0 12 427.0 209 6129 30.6 152]\n"
          ]
        }
      ]
    },
    {
      "cell_type": "markdown",
      "source": [
        "**1.3 Operation for matrix**"
      ],
      "metadata": {
        "id": "_ityLRxDswnr"
      }
    },
    {
      "cell_type": "code",
      "source": [
        "#Get first 5 rows and last 5 rows\n",
        "m1 = X[0:5, :]\n",
        "m2 = X[-5:, :]\n",
        "\n",
        "print(m1)\n",
        "print(m2)\n",
        "\n",
        "m = m1 - m2\n",
        "print(m)"
      ],
      "metadata": {
        "colab": {
          "base_uri": "https://localhost:8080/"
        },
        "id": "KKwCG8f8s05Z",
        "outputId": "b3ba9115-162a-4500-8637-4b486a97e005"
      },
      "execution_count": 10,
      "outputs": [
        {
          "output_type": "stream",
          "name": "stdout",
          "text": [
            "[[18.0 8 307.0 130 3504 12.0 70]\n",
            " [15.0 8 350.0 165 3693 11.5 70]\n",
            " [18.0 8 318.0 150 3436 11.0 70]\n",
            " [16.0 8 304.0 150 3433 12.0 70]\n",
            " [17.0 8 302.0 140 3449 10.5 70]]\n",
            "[[27.0 4 140.0 86 2790 15.6 82]\n",
            " [44.0 4 97.0 52 2130 24.6 82]\n",
            " [32.0 4 135.0 84 2295 11.6 82]\n",
            " [28.0 4 120.0 79 2625 18.6 82]\n",
            " [31.0 4 119.0 82 2720 19.4 82]]\n",
            "[[-9.0 4 167.0 44 714 -3.5999999999999996 -12]\n",
            " [-29.0 4 253.0 113 1563 -13.100000000000001 -12]\n",
            " [-14.0 4 183.0 66 1141 -0.5999999999999996 -12]\n",
            " [-12.0 4 184.0 71 808 -6.600000000000001 -12]\n",
            " [-14.0 4 183.0 58 729 -8.899999999999999 -12]]\n"
          ]
        }
      ]
    },
    {
      "cell_type": "markdown",
      "source": [
        "# 2. Task"
      ],
      "metadata": {
        "id": "UrYkXp-ltQs3"
      }
    },
    {
      "cell_type": "markdown",
      "source": [
        "**2.1 Get the first column and the second to last column from X**"
      ],
      "metadata": {
        "id": "MQjNNi71tU3U"
      }
    },
    {
      "cell_type": "code",
      "source": [
        "col1 = X[:, 0]\n",
        "col2 = X[:, -2]\n",
        "\n",
        "print(col1)\n",
        "print(col2)"
      ],
      "metadata": {
        "colab": {
          "base_uri": "https://localhost:8080/"
        },
        "id": "CCeheoLXtSRB",
        "outputId": "c8303638-da1e-443e-bf51-5c258324e7e0"
      },
      "execution_count": 11,
      "outputs": [
        {
          "output_type": "stream",
          "name": "stdout",
          "text": [
            "[18.0 15.0 18.0 16.0 17.0 15.0 14.0 14.0 14.0 15.0 0.0 0.0 0.0 0.0 0.0\n",
            " 15.0 14.0 0.0 15.0 14.0 24.0 22.0 18.0 21.0 27.0 26.0 25.0 24.0 25.0 26.0\n",
            " 21.0 10.0 10.0 11.0 9.0 27.0 28.0 25.0 25.0 0.0 19.0 16.0 17.0 19.0 18.0\n",
            " 14.0 14.0 14.0 14.0 12.0 13.0 13.0 18.0 22.0 19.0 18.0 23.0 28.0 30.0\n",
            " 30.0 31.0 35.0 27.0 26.0 24.0 25.0 23.0 20.0 21.0 13.0 14.0 15.0 14.0\n",
            " 17.0 11.0 13.0 12.0 13.0 19.0 15.0 13.0 13.0 14.0 18.0 22.0 21.0 26.0\n",
            " 22.0 28.0 23.0 28.0 27.0 13.0 14.0 13.0 14.0 15.0 12.0 13.0 13.0 14.0\n",
            " 13.0 12.0 13.0 18.0 16.0 18.0 18.0 23.0 26.0 11.0 12.0 13.0 12.0 18.0\n",
            " 20.0 21.0 22.0 18.0 19.0 21.0 26.0 15.0 16.0 29.0 24.0 20.0 19.0 15.0\n",
            " 24.0 20.0 11.0 20.0 21.0 19.0 15.0 31.0 26.0 32.0 25.0 16.0 16.0 18.0\n",
            " 16.0 13.0 14.0 14.0 14.0 29.0 26.0 26.0 31.0 32.0 28.0 24.0 26.0 24.0\n",
            " 26.0 31.0 19.0 18.0 15.0 15.0 16.0 15.0 16.0 14.0 17.0 16.0 15.0 18.0\n",
            " 21.0 20.0 13.0 29.0 23.0 20.0 23.0 24.0 25.0 24.0 18.0 29.0 19.0 23.0\n",
            " 23.0 22.0 25.0 33.0 28.0 25.0 25.0 26.0 27.0 17.5 16.0 15.5 14.5 22.0\n",
            " 22.0 24.0 22.5 29.0 24.5 29.0 33.0 20.0 18.0 18.5 17.5 29.5 32.0 28.0\n",
            " 26.5 20.0 13.0 19.0 19.0 16.5 16.5 13.0 13.0 13.0 31.5 30.0 36.0 25.5\n",
            " 33.5 17.5 17.0 15.5 15.0 17.5 20.5 19.0 18.5 16.0 15.5 15.5 16.0 29.0\n",
            " 24.5 26.0 25.5 30.5 33.5 30.0 30.5 22.0 21.5 21.5 43.1 36.1 32.8 39.4\n",
            " 36.1 19.9 19.4 20.2 19.2 20.5 20.2 25.1 20.5 19.4 20.6 20.8 18.6 18.1\n",
            " 19.2 17.7 18.1 17.5 30.0 27.5 27.2 30.9 21.1 23.2 23.8 23.9 20.3 17.0\n",
            " 21.6 16.2 31.5 29.5 21.5 19.8 22.3 20.2 20.6 17.0 17.6 16.5 18.2 16.9\n",
            " 15.5 19.2 18.5 31.9 34.1 35.7 27.4 25.4 23.0 27.2 23.9 34.2 34.5 31.8\n",
            " 37.3 28.4 28.8 26.8 33.5 41.5 38.1 32.1 37.2 28.0 26.4 24.3 19.1 34.3\n",
            " 29.8 31.3 37.0 32.2 46.6 27.9 40.8 44.3 43.4 36.4 30.0 44.6 40.9 33.8\n",
            " 29.8 32.7 23.7 35.0 23.6 32.4 27.2 26.6 25.8 23.5 30.0 39.1 39.0 35.1\n",
            " 32.3 37.0 37.7 34.1 34.7 34.4 29.9 33.0 34.5 33.7 32.4 32.9 31.6 28.1 0.0\n",
            " 30.7 25.4 24.2 22.4 26.6 20.2 17.6 28.0 27.0 34.0 31.0 29.0 27.0 24.0\n",
            " 23.0 36.0 37.0 31.0 38.0 36.0 36.0 36.0 34.0 38.0 32.0 38.0 25.0 38.0\n",
            " 26.0 22.0 32.0 36.0 27.0 27.0 44.0 32.0 28.0 31.0]\n",
            "[12.0 11.5 11.0 12.0 10.5 10.0 9.0 8.5 10.0 8.5 17.5 11.5 11.0 10.5 11.0\n",
            " 10.0 8.0 8.0 9.5 10.0 15.0 15.5 15.5 16.0 14.5 20.5 17.5 14.5 17.5 12.5\n",
            " 15.0 14.0 15.0 13.5 18.5 14.5 15.5 14.0 19.0 20.0 13.0 15.5 15.5 15.5\n",
            " 15.5 12.0 11.5 13.5 13.0 11.5 12.0 12.0 13.5 19.0 15.0 14.5 14.0 14.0\n",
            " 19.5 14.5 19.0 18.0 19.0 20.5 15.5 17.0 23.5 19.5 16.5 12.0 12.0 13.5\n",
            " 13.0 11.5 11.0 13.5 13.5 12.5 13.5 12.5 14.0 16.0 14.0 14.5 18.0 19.5\n",
            " 18.0 16.0 17.0 14.5 15.0 16.5 13.0 11.5 13.0 14.5 12.5 11.5 12.0 13.0\n",
            " 14.5 11.0 11.0 11.0 16.5 18.0 16.0 16.5 16.0 21.0 14.0 12.5 13.0 12.5\n",
            " 15.0 19.0 19.5 16.5 13.5 18.5 14.0 15.5 13.0 9.5 19.5 15.5 14.0 15.5 11.0\n",
            " 14.0 13.5 11.0 16.5 17.0 16.0 17.0 19.0 16.5 21.0 17.0 17.0 18.0 16.5\n",
            " 14.0 14.5 13.5 16.0 15.5 16.5 15.5 14.5 16.5 19.0 14.5 15.5 14.0 15.0\n",
            " 15.5 16.0 16.0 16.0 21.0 19.5 11.5 14.0 14.5 13.5 21.0 18.5 19.0 19.0\n",
            " 15.0 13.5 12.0 16.0 17.0 16.0 18.5 13.5 16.5 17.0 14.5 14.0 17.0 15.0\n",
            " 17.0 14.5 13.5 17.5 15.5 16.9 14.9 17.7 15.3 13.0 13.0 13.9 12.8 15.4\n",
            " 14.5 17.6 17.6 22.2 22.1 14.2 17.4 17.7 21.0 16.2 17.8 12.2 17.0 16.4\n",
            " 13.6 15.7 13.2 21.9 15.5 16.7 12.1 12.0 15.0 14.0 18.5 14.8 18.6 15.5\n",
            " 16.8 12.5 19.0 13.7 14.9 16.4 16.9 17.7 19.0 11.1 11.4 12.2 14.5 14.5\n",
            " 16.0 18.2 15.8 17.0 15.9 16.4 14.1 14.5 12.8 13.5 21.5 14.4 19.4 18.6\n",
            " 16.4 15.5 13.2 12.8 19.2 18.2 15.8 15.4 17.2 17.2 15.8 16.7 18.7 15.1\n",
            " 13.2 13.4 11.2 13.7 16.5 14.2 14.7 14.5 14.8 16.7 17.6 14.9 15.9 13.6\n",
            " 15.7 15.8 14.9 16.6 15.4 18.2 17.3 18.2 16.6 15.4 13.4 13.2 15.2 14.9\n",
            " 14.3 15.0 13.0 14.0 15.2 14.4 15.0 20.1 17.4 24.8 22.2 13.2 14.9 19.2\n",
            " 14.7 16.0 11.3 12.9 13.2 14.7 18.8 15.5 16.4 16.5 18.1 20.1 18.7 15.8\n",
            " 15.5 17.5 15.0 15.2 17.9 14.4 19.2 21.7 23.7 19.9 21.8 13.8 17.3 18.0\n",
            " 15.3 11.4 12.5 15.1 14.3 17.0 15.7 16.4 14.4 12.6 12.9 16.9 16.4 16.1\n",
            " 17.8 19.4 17.3 16.0 14.9 16.2 20.7 14.2 15.8 14.4 16.8 14.8 18.3 20.4\n",
            " 15.4 19.6 12.6 13.8 15.8 19.0 17.1 16.6 19.6 18.6 18.0 16.2 16.0 18.0\n",
            " 16.4 20.5 15.3 18.2 17.6 14.7 17.3 14.5 14.5 16.9 15.0 15.7 16.2 16.4\n",
            " 17.0 14.5 14.7 13.9 13.0 17.3 15.6 24.6 11.6 18.6 19.4]\n"
          ]
        }
      ]
    },
    {
      "cell_type": "markdown",
      "source": [
        "**2.2 Perform the following operations on the vectors and print the result**"
      ],
      "metadata": {
        "id": "UFL2sNaatdlc"
      }
    },
    {
      "cell_type": "code",
      "source": [
        "# 1. addition and subtraction\n",
        "add = col1 + col2\n",
        "sub = col1 - col2\n",
        "\n",
        "print(add)\n",
        "print(sub)"
      ],
      "metadata": {
        "colab": {
          "base_uri": "https://localhost:8080/"
        },
        "id": "fgqbnI9Qtlpy",
        "outputId": "b09a6ec6-3b25-4581-bbd3-84f7a676711d"
      },
      "execution_count": 12,
      "outputs": [
        {
          "output_type": "stream",
          "name": "stdout",
          "text": [
            "[30.0 26.5 29.0 28.0 27.5 25.0 23.0 22.5 24.0 23.5 17.5 11.5 11.0 10.5\n",
            " 11.0 25.0 22.0 8.0 24.5 24.0 39.0 37.5 33.5 37.0 41.5 46.5 42.5 38.5 42.5\n",
            " 38.5 36.0 24.0 25.0 24.5 27.5 41.5 43.5 39.0 44.0 20.0 32.0 31.5 32.5\n",
            " 34.5 33.5 26.0 25.5 27.5 27.0 23.5 25.0 25.0 31.5 41.0 34.0 32.5 37.0\n",
            " 42.0 49.5 44.5 50.0 53.0 46.0 46.5 39.5 42.0 46.5 39.5 37.5 25.0 26.0\n",
            " 28.5 27.0 28.5 22.0 26.5 25.5 25.5 32.5 27.5 27.0 29.0 28.0 32.5 40.0\n",
            " 40.5 44.0 38.0 45.0 37.5 43.0 43.5 26.0 25.5 26.0 28.5 27.5 23.5 25.0\n",
            " 26.0 28.5 24.0 23.0 24.0 34.5 34.0 34.0 34.5 39.0 47.0 25.0 24.5 26.0\n",
            " 24.5 33.0 39.0 40.5 38.5 31.5 37.5 35.0 41.5 28.0 25.5 48.5 39.5 34.0\n",
            " 34.5 26.0 38.0 33.5 22.0 36.5 38.0 35.0 32.0 50.0 42.5 53.0 42.0 33.0\n",
            " 34.0 34.5 30.0 27.5 27.5 30.0 29.5 45.5 41.5 40.5 47.5 51.0 42.5 39.5\n",
            " 40.0 39.0 41.5 47.0 35.0 34.0 36.0 34.5 27.5 29.0 30.5 27.5 38.0 34.5\n",
            " 34.0 37.0 36.0 33.5 25.0 45.0 40.0 36.0 41.5 37.5 41.5 41.0 32.5 43.0\n",
            " 36.0 38.0 40.0 36.5 38.5 50.5 43.5 41.9 39.9 43.7 42.3 30.5 29.0 29.4\n",
            " 27.3 37.4 36.5 41.6 40.1 51.2 46.6 43.2 50.4 37.7 39.0 34.7 35.3 41.7\n",
            " 49.0 44.4 40.1 35.7 26.2 40.9 34.5 33.2 28.6 25.0 28.0 27.0 50.0 44.8\n",
            " 54.6 41.0 50.3 30.0 36.0 29.2 29.9 33.9 37.4 36.7 37.5 27.1 26.9 27.7\n",
            " 30.5 43.5 40.5 44.2 41.3 47.5 49.4 46.4 44.6 36.5 34.3 35.0 64.6 50.5\n",
            " 52.199999999999996 58.0 52.5 35.4 32.599999999999994 33.0 38.4 38.7 36.0\n",
            " 40.5 37.7 36.599999999999994 36.400000000000006 37.5 37.3 33.2 32.4 31.1\n",
            " 29.3 31.2 46.5 41.7 41.9 45.4 35.900000000000006 39.9 41.400000000000006\n",
            " 38.8 36.2 30.6 37.3 32.0 46.4 46.1 36.9 38.0 39.6 38.4 37.2 32.4 31.0\n",
            " 29.7 33.4 31.799999999999997 29.8 34.2 31.5 45.9 49.3 50.1 42.4 45.5 40.4\n",
            " 52.0 46.099999999999994 47.400000000000006 49.4 51.0 52.0 44.4 40.1 39.7\n",
            " 46.7 56.2 56.900000000000006 47.6 53.6 44.5 44.5 44.400000000000006 37.8\n",
            " 50.099999999999994 45.3 48.8 52.0 47.400000000000006 64.5 42.3 60.0 66.0\n",
            " 67.1 56.3 51.8 58.400000000000006 58.2 51.8 45.1 44.1 36.2 50.1\n",
            " 37.900000000000006 49.4 42.9 43.0 40.2 36.1 42.9 56.0 55.4 51.2\n",
            " 50.099999999999994 56.4 55.0 50.1 49.6 50.599999999999994\n",
            " 50.599999999999994 47.2 50.3 48.1 49.2 47.7 49.900000000000006 48.5 15.4\n",
            " 50.3 38.0 38.0 38.2 45.6 37.3 34.2 47.6 45.6 52.0 47.2 45.0 45.0 40.4\n",
            " 43.5 51.3 55.2 48.6 52.7 53.3 50.5 50.5 50.9 53.0 47.7 54.2 41.4 55.0\n",
            " 40.5 36.7 45.9 49.0 44.3 42.6 68.6 43.6 46.6 50.4]\n",
            "[6.0 3.5 7.0 4.0 6.5 5.0 5.0 5.5 4.0 6.5 -17.5 -11.5 -11.0 -10.5 -11.0 5.0\n",
            " 6.0 -8.0 5.5 4.0 9.0 6.5 2.5 5.0 12.5 5.5 7.5 9.5 7.5 13.5 6.0 -4.0 -5.0\n",
            " -2.5 -9.5 12.5 12.5 11.0 6.0 -20.0 6.0 0.5 1.5 3.5 2.5 2.0 2.5 0.5 1.0\n",
            " 0.5 1.0 1.0 4.5 3.0 4.0 3.5 9.0 14.0 10.5 15.5 12.0 17.0 8.0 5.5 8.5 8.0\n",
            " -0.5 0.5 4.5 1.0 2.0 1.5 1.0 5.5 0.0 -0.5 -1.5 0.5 5.5 2.5 -1.0 -3.0 0.0\n",
            " 3.5 4.0 1.5 8.0 6.0 11.0 8.5 13.0 10.5 0.0 2.5 0.0 -0.5 2.5 0.5 1.0 0.0\n",
            " -0.5 2.0 1.0 2.0 1.5 -2.0 2.0 1.5 7.0 5.0 -3.0 -0.5 0.0 -0.5 3.0 1.0 1.5\n",
            " 5.5 4.5 0.5 7.0 10.5 2.0 6.5 9.5 8.5 6.0 3.5 4.0 10.0 6.5 0.0 3.5 4.0 3.0\n",
            " -2.0 12.0 9.5 11.0 8.0 -1.0 -2.0 1.5 2.0 -1.5 0.5 -2.0 -1.5 12.5 10.5\n",
            " 11.5 14.5 13.0 13.5 8.5 12.0 9.0 10.5 15.0 3.0 2.0 -6.0 -4.5 4.5 1.0 1.5\n",
            " 0.5 -4.0 -2.5 -4.0 -1.0 6.0 6.5 1.0 13.0 6.0 4.0 4.5 10.5 8.5 7.0 3.5\n",
            " 15.0 2.0 8.0 6.0 7.5 11.5 15.5 12.5 8.100000000000001 10.1 8.3 11.7 4.5\n",
            " 3.0 1.5999999999999996 1.6999999999999993 6.6 7.5 6.399999999999999\n",
            " 4.899999999999999 6.800000000000001 2.3999999999999986 14.8\n",
            " 15.600000000000001 2.3000000000000007 -3.0 2.3000000000000007\n",
            " -0.3000000000000007 17.3 15.0 11.600000000000001 12.9 4.300000000000001\n",
            " -0.1999999999999993 -2.8999999999999986 3.5 -0.1999999999999993 4.4 1.0\n",
            " -2.0 -1.0 13.0 15.2 17.4 10.0 16.7 5.0 -2.0 1.8000000000000007\n",
            " 0.09999999999999964 1.1000000000000014 3.6000000000000014\n",
            " 1.3000000000000007 -0.5 4.9 4.1 3.3000000000000007 1.5 14.5 8.5\n",
            " 7.800000000000001 9.7 13.5 17.6 13.600000000000001 16.4 7.5 8.7 8.0 21.6\n",
            " 21.700000000000003 13.399999999999999 20.799999999999997\n",
            " 19.700000000000003 4.399999999999999 6.199999999999999 7.399999999999999\n",
            " 0.0 2.3000000000000007 4.399999999999999 9.700000000000001\n",
            " 3.3000000000000007 2.1999999999999993 4.800000000000001 4.100000000000001\n",
            " -0.09999999999999787 3.0000000000000018 6.0 4.299999999999999\n",
            " 6.900000000000002 3.8000000000000007 13.5 13.3 12.5 16.4\n",
            " 6.300000000000001 6.5 6.199999999999999 8.999999999999998 4.4\n",
            " 3.4000000000000004 5.900000000000002 0.3999999999999986 16.6\n",
            " 12.899999999999999 6.1 1.6000000000000014 5.0 2.0 4.0 1.5999999999999996\n",
            " 4.200000000000001 3.3000000000000007 3.0 1.9999999999999982\n",
            " 1.1999999999999993 4.199999999999999 5.5 17.9 18.900000000000002\n",
            " 21.300000000000004 12.399999999999999 5.299999999999997 5.600000000000001\n",
            " 2.3999999999999986 1.6999999999999993 21.000000000000004 19.6\n",
            " 12.600000000000001 22.599999999999998 12.399999999999999 17.5 13.9 20.3\n",
            " 26.8 19.3 16.6 20.800000000000004 11.5 8.299999999999997\n",
            " 4.199999999999999 0.40000000000000213 18.499999999999996 14.3 13.8 22.0\n",
            " 17.000000000000004 28.700000000000003 13.499999999999998\n",
            " 21.599999999999998 22.599999999999998 19.7 16.5 8.2 30.8\n",
            " 23.599999999999998 15.799999999999997 14.5 21.300000000000004 11.2 19.9\n",
            " 9.3 15.399999999999999 11.5 10.200000000000003 11.4 10.9 17.1\n",
            " 22.200000000000003 22.6 19.0 14.499999999999996 17.6 20.400000000000002\n",
            " 18.1 19.800000000000004 18.2 9.2 18.8 18.7 19.300000000000004\n",
            " 15.599999999999998 18.099999999999998 13.3 7.700000000000003 -15.4\n",
            " 11.099999999999998 12.799999999999999 10.399999999999999\n",
            " 6.599999999999998 7.600000000000001 3.099999999999998 1.0\n",
            " 8.399999999999999 8.399999999999999 16.0 14.8 13.0 9.0 7.600000000000001\n",
            " 2.5 20.7 18.8 13.399999999999999 23.3 18.7 21.5 21.5 17.1 23.0 16.3 21.8\n",
            " 8.600000000000001 21.0 11.5 7.300000000000001 18.1 23.0 9.7 11.4 19.4\n",
            " 20.4 9.399999999999999 11.600000000000001]\n"
          ]
        }
      ]
    },
    {
      "cell_type": "code",
      "source": [
        "# 2. element-wise multiplication\n",
        "mul = np.multiply(col1, col2)\n",
        "\n",
        "print(mul)"
      ],
      "metadata": {
        "colab": {
          "base_uri": "https://localhost:8080/"
        },
        "id": "pd-ZPOrevr1j",
        "outputId": "a2d02820-b529-43e7-b0d0-8e901f26a9f4"
      },
      "execution_count": 13,
      "outputs": [
        {
          "output_type": "stream",
          "name": "stdout",
          "text": [
            "[216.0 172.5 198.0 192.0 178.5 150.0 126.0 119.0 140.0 127.5 0.0 0.0 0.0\n",
            " 0.0 0.0 150.0 112.0 0.0 142.5 140.0 360.0 341.0 279.0 336.0 391.5 533.0\n",
            " 437.5 348.0 437.5 325.0 315.0 140.0 150.0 148.5 166.5 391.5 434.0 350.0\n",
            " 475.0 0.0 247.0 248.0 263.5 294.5 279.0 168.0 161.0 189.0 182.0 138.0\n",
            " 156.0 156.0 243.0 418.0 285.0 261.0 322.0 392.0 585.0 435.0 589.0 630.0\n",
            " 513.0 533.0 372.0 425.0 540.5 390.0 346.5 156.0 168.0 202.5 182.0 195.5\n",
            " 121.0 175.5 162.0 162.5 256.5 187.5 182.0 208.0 196.0 261.0 396.0 409.5\n",
            " 468.0 352.0 476.0 333.5 420.0 445.5 169.0 161.0 169.0 203.0 187.5 138.0\n",
            " 156.0 169.0 203.0 143.0 132.0 143.0 297.0 288.0 288.0 297.0 368.0 546.0\n",
            " 154.0 150.0 169.0 150.0 270.0 380.0 409.5 363.0 243.0 351.5 294.0 403.0\n",
            " 195.0 152.0 565.5 372.0 280.0 294.5 165.0 336.0 270.0 121.0 330.0 357.0\n",
            " 304.0 255.0 589.0 429.0 672.0 425.0 272.0 288.0 297.0 224.0 188.5 189.0\n",
            " 224.0 217.0 478.5 403.0 377.0 511.5 608.0 406.0 372.0 364.0 360.0 403.0\n",
            " 496.0 304.0 288.0 315.0 292.5 184.0 210.0 232.0 189.0 357.0 296.0 285.0\n",
            " 342.0 315.0 270.0 156.0 464.0 391.0 320.0 425.5 324.0 412.5 408.0 261.0\n",
            " 406.0 323.0 345.0 391.0 319.0 337.5 577.5 434.0 422.49999999999994 372.5\n",
            " 460.2 413.1 227.5 208.0 215.45000000000002 185.60000000000002 338.8 319.0\n",
            " 422.40000000000003 396.00000000000006 643.8 541.45 411.79999999999995\n",
            " 574.1999999999999 354.0 378.0 299.7 311.5 359.9 544.0 459.19999999999993\n",
            " 360.4 314.0 171.6 416.09999999999997 294.5 275.55 199.65 156.0 195.0\n",
            " 182.0 582.75 444.0 669.6 395.25 562.8000000000001 218.75 323.0 212.35\n",
            " 223.5 287.0 346.45 336.3 351.5 177.6 176.70000000000002 189.1 232.0 420.5\n",
            " 392.0 473.2 402.90000000000003 518.5 532.65 491.99999999999994 430.05\n",
            " 319.0 275.2 290.25 926.65 519.84 636.3199999999999 732.84 592.04 308.45\n",
            " 256.08 258.56 368.64 373.09999999999997 319.16 386.54 352.59999999999997\n",
            " 333.67999999999995 325.48 347.36 347.82 273.31 253.43999999999997 237.18\n",
            " 202.72 239.75 495.0 390.5 399.84 448.04999999999995 312.28000000000003\n",
            " 387.44 418.88000000000005 356.11 322.77000000000004 231.2 339.12 255.96\n",
            " 469.35 489.70000000000005 331.1 360.36 385.79 367.64 341.96000000000004\n",
            " 261.8 235.84000000000003 217.79999999999998 276.64 251.80999999999997\n",
            " 221.65 288.0 240.5 446.59999999999997 518.32 514.08 411.0 510.54 400.2\n",
            " 674.56 530.5799999999999 451.44 514.0500000000001 610.56 548.31 454.4\n",
            " 325.44000000000005 345.72 442.2 610.05 716.2800000000001 497.55 610.08\n",
            " 462.0 477.84000000000003 488.43000000000006 357.17 541.9399999999999\n",
            " 461.90000000000003 547.75 555.0 489.44 834.14 401.76 783.3599999999999\n",
            " 961.31 1028.58 724.3599999999999 654.0 615.48 707.57 608.4\n",
            " 455.94000000000005 372.78000000000003 296.25 528.5 337.48 550.8\n",
            " 427.03999999999996 436.24 371.52000000000004 296.09999999999997 387.0\n",
            " 660.79 639.5999999999999 565.1100000000001 574.9399999999999 717.8 652.21\n",
            " 545.6 517.0300000000001 557.28 618.93 468.59999999999997 545.1\n",
            " 485.28000000000003 544.32 486.92 578.2800000000001 573.24 0.0 601.72\n",
            " 320.03999999999996 333.96 353.92 505.40000000000003 345.42 292.16\n",
            " 548.8000000000001 502.20000000000005 612.0 502.2 464.0 486.0\n",
            " 393.59999999999997 471.5 550.8000000000001 673.4 545.6 558.6\n",
            " 622.8000000000001 522.0 522.0 574.5999999999999 570.0 502.4 615.6\n",
            " 409.99999999999994 646.0 377.0 323.4 444.8 468.0 467.1 421.2 1082.4 371.2\n",
            " 520.8000000000001 601.4]\n"
          ]
        }
      ]
    },
    {
      "cell_type": "code",
      "source": [
        "# 3. inner product\n",
        "inner = np.inner(col1, col2)\n",
        "\n",
        "print(inner)"
      ],
      "metadata": {
        "colab": {
          "base_uri": "https://localhost:8080/"
        },
        "id": "LIC_p-4Pvtc_",
        "outputId": "b2a873ea-6646-45db-8053-baef9be6ee6c"
      },
      "execution_count": 14,
      "outputs": [
        {
          "output_type": "stream",
          "name": "stdout",
          "text": [
            "149295.04000000004\n"
          ]
        }
      ]
    },
    {
      "cell_type": "code",
      "source": [
        "# 4. three norms\n",
        "from numpy import linalg as la\n",
        "\n",
        "#Col1\n",
        "norm_l1_col1 = la.norm(col1, ord=1)\n",
        "norm_l2_col1 = la.norm(col1, ord=2)\n",
        "norm_linf_col1 = la.norm(col1, ord=np.inf)\n",
        "\n",
        "print(norm_l1_col1)\n",
        "print(norm_l2_col1)\n",
        "print(norm_linf_col1)\n",
        "\n",
        "#Col2\n",
        "\n",
        "norm_l1_col2 = la.norm(col2, ord=1)\n",
        "norm_l2_col2 = la.norm(col2, ord=2)\n",
        "norm_linf_col2 = la.norm(col2, ord=np.inf)\n",
        "\n",
        "print(norm_l1_col2)\n",
        "print(norm_l2_col2)\n",
        "print(norm_linf_col2)"
      ],
      "metadata": {
        "colab": {
          "base_uri": "https://localhost:8080/"
        },
        "id": "4vhcvYfkvvQB",
        "outputId": "29b787e2-5f33-4a72-9fbf-431ff9f49c1d"
      },
      "execution_count": 15,
      "outputs": [
        {
          "output_type": "stream",
          "name": "stdout",
          "text": [
            "9358.800000000003\n",
            "494.28813459357895\n",
            "46.6\n",
            "6300.999999999994\n",
            "317.7616716975161\n",
            "24.8\n"
          ]
        }
      ]
    },
    {
      "cell_type": "code",
      "source": [
        "# 5. compute the distance between the two vectors\n",
        "d = la.norm(col1 - col2, ord=2)\n",
        "\n",
        "print(d)"
      ],
      "metadata": {
        "colab": {
          "base_uri": "https://localhost:8080/"
        },
        "id": "GmIPCjnnvw_l",
        "outputId": "17eab4fe-13c9-490b-c15c-8ea7c27af391"
      },
      "execution_count": 16,
      "outputs": [
        {
          "output_type": "stream",
          "name": "stdout",
          "text": [
            "216.10913909411607\n"
          ]
        }
      ]
    },
    {
      "cell_type": "markdown",
      "source": [
        "**2.3 Get the first 3 columns and the last 3 columns from X**"
      ],
      "metadata": {
        "id": "ovmI64uMtzeJ"
      }
    },
    {
      "cell_type": "code",
      "source": [
        "A = X[:, 0:3]\n",
        "B = X[:, -3:]\n",
        "\n",
        "print(A)\n",
        "print(B)"
      ],
      "metadata": {
        "colab": {
          "base_uri": "https://localhost:8080/"
        },
        "id": "L4YUcPykt63q",
        "outputId": "94d6b642-a275-4f05-d43e-2381bca1df3e"
      },
      "execution_count": 17,
      "outputs": [
        {
          "output_type": "stream",
          "name": "stdout",
          "text": [
            "[[18.0 8 307.0]\n",
            " [15.0 8 350.0]\n",
            " [18.0 8 318.0]\n",
            " ...\n",
            " [32.0 4 135.0]\n",
            " [28.0 4 120.0]\n",
            " [31.0 4 119.0]]\n",
            "[[3504 12.0 70]\n",
            " [3693 11.5 70]\n",
            " [3436 11.0 70]\n",
            " ...\n",
            " [2295 11.6 82]\n",
            " [2625 18.6 82]\n",
            " [2720 19.4 82]]\n"
          ]
        }
      ]
    },
    {
      "cell_type": "markdown",
      "source": [
        "**2.4 Perform the following operations on the matrices and print the result**"
      ],
      "metadata": {
        "id": "KZ1ORhR8t8tR"
      }
    },
    {
      "cell_type": "code",
      "source": [
        "# 1. addition and subtraction\n",
        "add = A + B\n",
        "sub = A - B\n",
        "\n",
        "print(add)\n",
        "print(sub)"
      ],
      "metadata": {
        "colab": {
          "base_uri": "https://localhost:8080/"
        },
        "id": "pNCjOV9SuD0Q",
        "outputId": "6d988c06-6d3b-46b2-85ab-f944b8c9bd9d"
      },
      "execution_count": 18,
      "outputs": [
        {
          "output_type": "stream",
          "name": "stdout",
          "text": [
            "[[3522.0 20.0 377.0]\n",
            " [3708.0 19.5 420.0]\n",
            " [3454.0 19.0 388.0]\n",
            " ...\n",
            " [2327.0 15.6 217.0]\n",
            " [2653.0 22.6 202.0]\n",
            " [2751.0 23.4 201.0]]\n",
            "[[-3486.0 -4.0 237.0]\n",
            " [-3678.0 -3.5 280.0]\n",
            " [-3418.0 -3.0 248.0]\n",
            " ...\n",
            " [-2263.0 -7.6 53.0]\n",
            " [-2597.0 -14.600000000000001 38.0]\n",
            " [-2689.0 -15.399999999999999 37.0]]\n"
          ]
        }
      ]
    },
    {
      "cell_type": "code",
      "source": [
        "# 2. compute the transpose of the second matrix: C = B^T, and print the shape of C\n",
        "C = np.transpose(B)\n",
        "\n",
        "print(C)\n",
        "print(np.shape(C))"
      ],
      "metadata": {
        "colab": {
          "base_uri": "https://localhost:8080/"
        },
        "id": "5n1x0BB1vzKM",
        "outputId": "627d6e59-99b6-408d-f72b-654327442551"
      },
      "execution_count": 21,
      "outputs": [
        {
          "output_type": "stream",
          "name": "stdout",
          "text": [
            "[[3504 3693 3436 ... 2295 2625 2720]\n",
            " [12.0 11.5 11.0 ... 11.6 18.6 19.4]\n",
            " [70 70 70 ... 82 82 82]]\n",
            "(3, 406)\n"
          ]
        }
      ]
    },
    {
      "cell_type": "code",
      "source": [
        "# 3. compute the product between A and C, and print the result and its shape\n",
        "AC = np.dot(A,C)\n",
        "\n",
        "print(AC)\n",
        "print(np.shape(AC))"
      ],
      "metadata": {
        "colab": {
          "base_uri": "https://localhost:8080/"
        },
        "id": "4dSAh7nqv18t",
        "outputId": "3852dd63-f7b0-49b3-889c-17f620419935"
      },
      "execution_count": 22,
      "outputs": [
        {
          "output_type": "stream",
          "name": "stdout",
          "text": [
            "[[84658.0 88056.0 83426.0 ... 66576.8 72572.8 74289.2]\n",
            " [77156.0 79987.0 76128.0 ... 63217.8 68223.8 69655.2]\n",
            " [85428.0 88826.0 84196.0 ... 67478.8 73474.8 75191.2]\n",
            " ...\n",
            " [121626.0 127672.0 119446.0 ... 84556.4 95144.4 98187.6]\n",
            " [106560.0 111850.0 104652.0 ... 74146.4 83414.4 86077.6]\n",
            " [117002.0 122859.0 114890.0 ... 80949.4 91207.4 94155.6]]\n",
            "(406, 406)\n"
          ]
        }
      ]
    },
    {
      "cell_type": "code",
      "source": [
        "# 4. compute the transpose of the first matrix: D = A^T, and print the shape of D\n",
        "D = np.transpose(A)\n",
        "\n",
        "print(D)\n",
        "print(np.shape(D))"
      ],
      "metadata": {
        "colab": {
          "base_uri": "https://localhost:8080/"
        },
        "id": "6aJXWTVav3N7",
        "outputId": "d85400f4-d5f7-4cf4-a362-b7477571f550"
      },
      "execution_count": 23,
      "outputs": [
        {
          "output_type": "stream",
          "name": "stdout",
          "text": [
            "[[18.0 15.0 18.0 ... 32.0 28.0 31.0]\n",
            " [8 8 8 ... 4 4 4]\n",
            " [307.0 350.0 318.0 ... 135.0 120.0 119.0]]\n",
            "(3, 406)\n"
          ]
        }
      ]
    },
    {
      "cell_type": "code",
      "source": [
        "# 5. compute the product between D and B, and print the result and its shape\n",
        "BD = np.dot(B,D)\n",
        "\n",
        "print(BD)\n",
        "print(np.shape(BD))"
      ],
      "metadata": {
        "colab": {
          "base_uri": "https://localhost:8080/"
        },
        "id": "nsIrqgSEv4bY",
        "outputId": "3c771111-8b7b-4f58-aab3-8258a5ce557d"
      },
      "execution_count": 24,
      "outputs": [
        {
          "output_type": "stream",
          "name": "stdout",
          "text": [
            "[[84658.0 77156.0 85428.0 ... 121626.0 106560.0 117002.0]\n",
            " [88056.0 79987.0 88826.0 ... 127672.0 111850.0 122859.0]\n",
            " [83426.0 76128.0 84196.0 ... 119446.0 104652.0 114890.0]\n",
            " ...\n",
            " [66576.8 63217.8 67478.8 ... 84556.4 74146.4 80949.4]\n",
            " [72572.8 68223.8 73474.8 ... 95144.4 83414.4 91207.4]\n",
            " [74289.2 69655.2 75191.2 ... 98187.6 86077.6 94155.6]]\n",
            "(406, 406)\n"
          ]
        }
      ]
    }
  ]
}