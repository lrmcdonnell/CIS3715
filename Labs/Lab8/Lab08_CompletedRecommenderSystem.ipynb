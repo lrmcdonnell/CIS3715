{
  "cells": [
    {
      "cell_type": "markdown",
      "metadata": {
        "id": "J2DbP1qyb3CW"
      },
      "source": [
        "# Lab 8: Recommender System\n",
        "\n",
        "In this assignment, we will study how to do user-based collaborative filtering and item-based collaborative filtering."
      ]
    },
    {
      "cell_type": "markdown",
      "metadata": {
        "id": "i2oTv-Q9b3CY"
      },
      "source": [
        "## 1. Dataset\n",
        "\n",
        "In this assignment, we will use MovieLens-100K dataset. It includes about 100,000 ratings from 1000 users on 1700 movies.  "
      ]
    },
    {
      "cell_type": "code",
      "source": [
        "from google.colab import drive\n",
        "drive.mount('/content/drive')\n",
        "\n",
        "from google.colab import files\n",
        "uploaded = files.upload()"
      ],
      "metadata": {
        "colab": {
          "base_uri": "https://localhost:8080/",
          "height": 197
        },
        "id": "jLAQsCseb45t",
        "outputId": "c866df07-2170-4680-f20d-7c0ba07e70fb"
      },
      "execution_count": 2,
      "outputs": [
        {
          "output_type": "stream",
          "name": "stdout",
          "text": [
            "Drive already mounted at /content/drive; to attempt to forcibly remount, call drive.mount(\"/content/drive\", force_remount=True).\n"
          ]
        },
        {
          "output_type": "display_data",
          "data": {
            "text/plain": [
              "<IPython.core.display.HTML object>"
            ],
            "text/html": [
              "\n",
              "     <input type=\"file\" id=\"files-aaaa6b24-c410-4309-a5ae-bcf8259d20fb\" name=\"files[]\" multiple disabled\n",
              "        style=\"border:none\" />\n",
              "     <output id=\"result-aaaa6b24-c410-4309-a5ae-bcf8259d20fb\">\n",
              "      Upload widget is only available when the cell has been executed in the\n",
              "      current browser session. Please rerun this cell to enable.\n",
              "      </output>\n",
              "      <script>// Copyright 2017 Google LLC\n",
              "//\n",
              "// Licensed under the Apache License, Version 2.0 (the \"License\");\n",
              "// you may not use this file except in compliance with the License.\n",
              "// You may obtain a copy of the License at\n",
              "//\n",
              "//      http://www.apache.org/licenses/LICENSE-2.0\n",
              "//\n",
              "// Unless required by applicable law or agreed to in writing, software\n",
              "// distributed under the License is distributed on an \"AS IS\" BASIS,\n",
              "// WITHOUT WARRANTIES OR CONDITIONS OF ANY KIND, either express or implied.\n",
              "// See the License for the specific language governing permissions and\n",
              "// limitations under the License.\n",
              "\n",
              "/**\n",
              " * @fileoverview Helpers for google.colab Python module.\n",
              " */\n",
              "(function(scope) {\n",
              "function span(text, styleAttributes = {}) {\n",
              "  const element = document.createElement('span');\n",
              "  element.textContent = text;\n",
              "  for (const key of Object.keys(styleAttributes)) {\n",
              "    element.style[key] = styleAttributes[key];\n",
              "  }\n",
              "  return element;\n",
              "}\n",
              "\n",
              "// Max number of bytes which will be uploaded at a time.\n",
              "const MAX_PAYLOAD_SIZE = 100 * 1024;\n",
              "\n",
              "function _uploadFiles(inputId, outputId) {\n",
              "  const steps = uploadFilesStep(inputId, outputId);\n",
              "  const outputElement = document.getElementById(outputId);\n",
              "  // Cache steps on the outputElement to make it available for the next call\n",
              "  // to uploadFilesContinue from Python.\n",
              "  outputElement.steps = steps;\n",
              "\n",
              "  return _uploadFilesContinue(outputId);\n",
              "}\n",
              "\n",
              "// This is roughly an async generator (not supported in the browser yet),\n",
              "// where there are multiple asynchronous steps and the Python side is going\n",
              "// to poll for completion of each step.\n",
              "// This uses a Promise to block the python side on completion of each step,\n",
              "// then passes the result of the previous step as the input to the next step.\n",
              "function _uploadFilesContinue(outputId) {\n",
              "  const outputElement = document.getElementById(outputId);\n",
              "  const steps = outputElement.steps;\n",
              "\n",
              "  const next = steps.next(outputElement.lastPromiseValue);\n",
              "  return Promise.resolve(next.value.promise).then((value) => {\n",
              "    // Cache the last promise value to make it available to the next\n",
              "    // step of the generator.\n",
              "    outputElement.lastPromiseValue = value;\n",
              "    return next.value.response;\n",
              "  });\n",
              "}\n",
              "\n",
              "/**\n",
              " * Generator function which is called between each async step of the upload\n",
              " * process.\n",
              " * @param {string} inputId Element ID of the input file picker element.\n",
              " * @param {string} outputId Element ID of the output display.\n",
              " * @return {!Iterable<!Object>} Iterable of next steps.\n",
              " */\n",
              "function* uploadFilesStep(inputId, outputId) {\n",
              "  const inputElement = document.getElementById(inputId);\n",
              "  inputElement.disabled = false;\n",
              "\n",
              "  const outputElement = document.getElementById(outputId);\n",
              "  outputElement.innerHTML = '';\n",
              "\n",
              "  const pickedPromise = new Promise((resolve) => {\n",
              "    inputElement.addEventListener('change', (e) => {\n",
              "      resolve(e.target.files);\n",
              "    });\n",
              "  });\n",
              "\n",
              "  const cancel = document.createElement('button');\n",
              "  inputElement.parentElement.appendChild(cancel);\n",
              "  cancel.textContent = 'Cancel upload';\n",
              "  const cancelPromise = new Promise((resolve) => {\n",
              "    cancel.onclick = () => {\n",
              "      resolve(null);\n",
              "    };\n",
              "  });\n",
              "\n",
              "  // Wait for the user to pick the files.\n",
              "  const files = yield {\n",
              "    promise: Promise.race([pickedPromise, cancelPromise]),\n",
              "    response: {\n",
              "      action: 'starting',\n",
              "    }\n",
              "  };\n",
              "\n",
              "  cancel.remove();\n",
              "\n",
              "  // Disable the input element since further picks are not allowed.\n",
              "  inputElement.disabled = true;\n",
              "\n",
              "  if (!files) {\n",
              "    return {\n",
              "      response: {\n",
              "        action: 'complete',\n",
              "      }\n",
              "    };\n",
              "  }\n",
              "\n",
              "  for (const file of files) {\n",
              "    const li = document.createElement('li');\n",
              "    li.append(span(file.name, {fontWeight: 'bold'}));\n",
              "    li.append(span(\n",
              "        `(${file.type || 'n/a'}) - ${file.size} bytes, ` +\n",
              "        `last modified: ${\n",
              "            file.lastModifiedDate ? file.lastModifiedDate.toLocaleDateString() :\n",
              "                                    'n/a'} - `));\n",
              "    const percent = span('0% done');\n",
              "    li.appendChild(percent);\n",
              "\n",
              "    outputElement.appendChild(li);\n",
              "\n",
              "    const fileDataPromise = new Promise((resolve) => {\n",
              "      const reader = new FileReader();\n",
              "      reader.onload = (e) => {\n",
              "        resolve(e.target.result);\n",
              "      };\n",
              "      reader.readAsArrayBuffer(file);\n",
              "    });\n",
              "    // Wait for the data to be ready.\n",
              "    let fileData = yield {\n",
              "      promise: fileDataPromise,\n",
              "      response: {\n",
              "        action: 'continue',\n",
              "      }\n",
              "    };\n",
              "\n",
              "    // Use a chunked sending to avoid message size limits. See b/62115660.\n",
              "    let position = 0;\n",
              "    do {\n",
              "      const length = Math.min(fileData.byteLength - position, MAX_PAYLOAD_SIZE);\n",
              "      const chunk = new Uint8Array(fileData, position, length);\n",
              "      position += length;\n",
              "\n",
              "      const base64 = btoa(String.fromCharCode.apply(null, chunk));\n",
              "      yield {\n",
              "        response: {\n",
              "          action: 'append',\n",
              "          file: file.name,\n",
              "          data: base64,\n",
              "        },\n",
              "      };\n",
              "\n",
              "      let percentDone = fileData.byteLength === 0 ?\n",
              "          100 :\n",
              "          Math.round((position / fileData.byteLength) * 100);\n",
              "      percent.textContent = `${percentDone}% done`;\n",
              "\n",
              "    } while (position < fileData.byteLength);\n",
              "  }\n",
              "\n",
              "  // All done.\n",
              "  yield {\n",
              "    response: {\n",
              "      action: 'complete',\n",
              "    }\n",
              "  };\n",
              "}\n",
              "\n",
              "scope.google = scope.google || {};\n",
              "scope.google.colab = scope.google.colab || {};\n",
              "scope.google.colab._files = {\n",
              "  _uploadFiles,\n",
              "  _uploadFilesContinue,\n",
              "};\n",
              "})(self);\n",
              "</script> "
            ]
          },
          "metadata": {}
        },
        {
          "output_type": "stream",
          "name": "stdout",
          "text": [
            "Saving u1.base to u1.base\n",
            "Saving u1.test to u1.test\n",
            "Saving u.data to u.data\n",
            "Saving u.item to u.item\n"
          ]
        }
      ]
    },
    {
      "cell_type": "code",
      "execution_count": 3,
      "metadata": {
        "colab": {
          "base_uri": "https://localhost:8080/"
        },
        "id": "_nq_vZ5Mb3CY",
        "outputId": "428cd649-2895-4273-c641-494c274fa892"
      },
      "outputs": [
        {
          "output_type": "stream",
          "name": "stdout",
          "text": [
            "(943, 1664)\n",
            "(943, 1664)\n"
          ]
        }
      ],
      "source": [
        "from math import sqrt\n",
        "import pandas as pd\n",
        "import numpy as np\n",
        "import seaborn as sns\n",
        "from matplotlib import pyplot as plt\n",
        "from sklearn.metrics.pairwise import linear_kernel\n",
        "from sklearn.neighbors import NearestNeighbors\n",
        "\n",
        "\n",
        "# 1. load data\n",
        "user_ratings_train = pd.read_csv('u1.base',\n",
        "                            sep='\\t',names=['user_id','movie_id','rating'], usecols=[0,1,2])\n",
        "\n",
        "user_ratings_test = pd.read_csv('u1.test',\n",
        "                            sep='\\t',names=['user_id','movie_id','rating'], usecols=[0,1,2])\n",
        "\n",
        "movie_info =  pd.read_csv('u.item',\n",
        "                          sep='|', names=['movie_id','title'], usecols=[0,1],\n",
        "                          encoding=\"ISO-8859-1\")\n",
        "\n",
        "user_ratings_train = pd.merge(movie_info, user_ratings_train)\n",
        "user_ratings_test = pd.merge(movie_info, user_ratings_test)\n",
        "\n",
        "# 2. get the rating matrix. Each row is a user, and each column is a movie.\n",
        "user_ratings_train = user_ratings_train.pivot_table(index=['user_id'],\n",
        "                                        columns=['title'],\n",
        "                                        values='rating')\n",
        "\n",
        "user_ratings_test = user_ratings_test.pivot_table(index=['user_id'],\n",
        "                                        columns=['title'],\n",
        "                                        values='rating')\n",
        "\n",
        "\n",
        "\n",
        "\n",
        "user_ratings_train = user_ratings_train.reindex(\n",
        "                            index=user_ratings_train.index.union(user_ratings_test.index),\n",
        "                            columns=user_ratings_train.columns.union(user_ratings_test.columns) )\n",
        "\n",
        "user_ratings_test = user_ratings_test.reindex(\n",
        "                            index=user_ratings_train.index.union(user_ratings_test.index),\n",
        "                            columns=user_ratings_train.columns.union(user_ratings_test.columns) )\n",
        "\n",
        "print(user_ratings_train.shape)\n",
        "print(user_ratings_test.shape)"
      ]
    },
    {
      "cell_type": "markdown",
      "metadata": {
        "id": "gUmRzS5Jb3CZ"
      },
      "source": [
        "## Task 1. User-based CF\n",
        "\n",
        "* Use pearson correlation to get the similarity between different users.\n",
        "* Based on the obtained similarity score, predict the ratings. You can use 5 nearest neighbors or 10 nearest neighbors.\n",
        "* Compute MAE for the testing set."
      ]
    },
    {
      "cell_type": "code",
      "execution_count": 4,
      "metadata": {
        "colab": {
          "base_uri": "https://localhost:8080/"
        },
        "id": "WNepCmAxb3CZ",
        "outputId": "306653b7-1254-41a1-ad75-7770608db2c1"
      },
      "outputs": [
        {
          "output_type": "stream",
          "name": "stderr",
          "text": [
            "<ipython-input-4-ef794fbb836b>:21: FutureWarning: iteritems is deprecated and will be removed in a future version. Use .items instead.\n",
            "  for movie, rating in row.iteritems():\n"
          ]
        },
        {
          "output_type": "stream",
          "name": "stdout",
          "text": [
            "MAE: 0.8316716024705649\n"
          ]
        }
      ],
      "source": [
        "from sklearn.metrics import pairwise_distances\n",
        "from sklearn.metrics import mean_absolute_error\n",
        "\n",
        "# Replace missing values with mean value\n",
        "user_ratings_train['average'] = user_ratings_train.mean(axis = 1)\n",
        "user_ratings_train_filled = user_ratings_train.T.fillna(user_ratings_train['average'], axis = 0).T\n",
        "\n",
        "# Pearson correlation\n",
        "pearson_sim_train = 1 - pairwise_distances(user_ratings_train_filled, metric = \"correlation\")\n",
        "\n",
        "# Train using 10 nearest neighbors\n",
        "train_model = NearestNeighbors(n_neighbors = 10)\n",
        "train_model.fit(pearson_sim_train)\n",
        "\n",
        "neighbors_distance, neighbors_ind = train_model.kneighbors()\n",
        "neighbors_ind += 1 #\n",
        "\n",
        "predictions, actual = [], []\n",
        "\n",
        "# predict the ratings\n",
        "for user_id, row in user_ratings_test.iterrows():\n",
        "    for movie, rating in row.iteritems():\n",
        "        if not pd.isnull(rating):\n",
        "            predicted_rating, sum_of_sim = 0, 0\n",
        "\n",
        "            for x in range(0, 10):\n",
        "                ngbh_id = neighbors_ind[user_id-1][x]\n",
        "                nghb_rating = user_ratings_train.loc[ngbh_id,movie]\n",
        "\n",
        "                if not pd.isnull(nghb_rating):\n",
        "                    nghb_distance = neighbors_distance[user_id-1][x]\n",
        "                    sum_of_sim += nghb_distance\n",
        "                    predicted_rating += nghb_distance*(nghb_rating-user_ratings_train.loc[ngbh_id, 'average'])\n",
        "\n",
        "            if (sum_of_sim != 0):\n",
        "                predicted_rating = predicted_rating/sum_of_sim\n",
        "                predicted_rating += user_ratings_train.loc[user_id, 'average']\n",
        "                predictions.append(predicted_rating)\n",
        "                actual.append(rating)\n",
        "\n",
        "# Compute MAE\n",
        "mae = mean_absolute_error(predictions, actual)\n",
        "print('MAE: {}'.format(str(mae)))"
      ]
    },
    {
      "cell_type": "markdown",
      "metadata": {
        "id": "Rm4lER8Kb3Ca"
      },
      "source": [
        "## Task 2. Item-based CF\n",
        "* Use cosine similarity to get the similarity between different items.\n",
        "* Based on the obtained similarity score, predict the ratings. You can use 5 nearest neighbors or 10 nearest neighbors.\n",
        "* Compute MAE for the testing set."
      ]
    },
    {
      "cell_type": "code",
      "execution_count": 5,
      "metadata": {
        "colab": {
          "base_uri": "https://localhost:8080/"
        },
        "id": "hWB24MZEb3Ca",
        "outputId": "5618e744-f3dc-4f41-a6c9-1ce7f4facf02"
      },
      "outputs": [
        {
          "output_type": "stream",
          "name": "stderr",
          "text": [
            "<ipython-input-5-c0f2816a0628>:29: FutureWarning: iteritems is deprecated and will be removed in a future version. Use .items instead.\n",
            "  for user, rating in row.iteritems():\n"
          ]
        },
        {
          "output_type": "stream",
          "name": "stdout",
          "text": [
            "MAE: 1.0284405172262243\n"
          ]
        }
      ],
      "source": [
        "# Transpose to get features for predictions\n",
        "item_ratings_train = user_ratings_train.T\n",
        "item_ratings_test = user_ratings_test.T\n",
        "\n",
        "# Replace missing values with mean value\n",
        "item_ratings_train['average'] = item_ratings_train.mean(axis = 1)\n",
        "item_ratings_train_filled = item_ratings_train.T.fillna(item_ratings_train['average'], axis = 0).T\n",
        "\n",
        "# Drop rows with null data\n",
        "dropped_rows = item_ratings_train_filled[item_ratings_train_filled.isna().any(axis=1)]\n",
        "item_ratings_train_noNan = item_ratings_train_filled.drop(dropped_rows.index)\n",
        "item_ratings_test = item_ratings_test.drop(dropped_rows.index)\n",
        "\n",
        "# Cosine similarity\n",
        "pearson_sim_train = 1 - pairwise_distances(item_ratings_train_noNan, metric=\"cosine\")\n",
        "\n",
        "# Train using 10 nearest neighbors\n",
        "train_model = NearestNeighbors(n_neighbors=10)\n",
        "train_model.fit(pearson_sim_train)\n",
        "\n",
        "neighbors_distance, neighbors_ind = train_model.kneighbors()\n",
        "neighbors_ind += 1\n",
        "\n",
        "predictions, actual = [], []\n",
        "\n",
        "# predict the ratings\n",
        "for movie_id, row in item_ratings_test.iterrows():\n",
        "    item_id = item_ratings_test.index.get_loc(movie_id)\n",
        "\n",
        "    for user, rating in row.iteritems():\n",
        "        if not pd.isnull(rating):\n",
        "            predicted_rating, sum_of_sim = 0, 0\n",
        "\n",
        "            for x in range(0, 10):\n",
        "                ngbh_id = neighbors_ind[item_id][x]\n",
        "\n",
        "                if ngbh_id < len(item_ratings_train_noNan):\n",
        "                    nghb_rating = item_ratings_train_noNan.iloc[ngbh_id].loc[user]\n",
        "\n",
        "                    if not pd.isnull(nghb_rating):\n",
        "                        nghb_distance = neighbors_distance[item_id][x]\n",
        "                        sum_of_sim += nghb_distance\n",
        "                        predicted_rating += nghb_distance*(nghb_rating)\n",
        "\n",
        "            if (sum_of_sim != 0):\n",
        "                predicted_rating = predicted_rating/sum_of_sim\n",
        "                predictions.append(predicted_rating)\n",
        "                actual.append(rating)\n",
        "\n",
        "# Compute MAE\n",
        "mae = mean_absolute_error(predictions, actual)\n",
        "print('MAE: {}'.format(str(mae)))"
      ]
    }
  ],
  "metadata": {
    "kernelspec": {
      "display_name": "Python 3",
      "language": "python",
      "name": "python3"
    },
    "language_info": {
      "codemirror_mode": {
        "name": "ipython",
        "version": 3
      },
      "file_extension": ".py",
      "mimetype": "text/x-python",
      "name": "python",
      "nbconvert_exporter": "python",
      "pygments_lexer": "ipython3",
      "version": "3.7.1"
    },
    "colab": {
      "provenance": []
    }
  },
  "nbformat": 4,
  "nbformat_minor": 0
}