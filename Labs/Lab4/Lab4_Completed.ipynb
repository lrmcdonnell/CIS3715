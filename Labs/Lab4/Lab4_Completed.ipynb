{
  "cells": [
    {
      "cell_type": "markdown",
      "metadata": {
        "id": "BKWNCYYdYQze"
      },
      "source": [
        "# Lab 4: Logistic Regression"
      ]
    },
    {
      "cell_type": "markdown",
      "metadata": {
        "id": "7AZcJJIuYQzf"
      },
      "source": [
        "In this assignment, we will learn the Logistic Regression model.\n",
        "\n",
        "First, please study the given example, which uses the logistic regression model for the breast cancer classification task. In this example, you will learn how to preprocess data, how to train the model, and how to evaluate the model.\n",
        "\n",
        "Based on the given example, your task is to use the logistic regression model to predict the presence of heart disease.\n"
      ]
    },
    {
      "cell_type": "markdown",
      "metadata": {
        "id": "JQ9MNXtTYQzg"
      },
      "source": [
        "## 1. Example"
      ]
    },
    {
      "cell_type": "markdown",
      "metadata": {
        "id": "KLtlb25fYQzg"
      },
      "source": [
        "### 1.1 Load the breast cancer data"
      ]
    },
    {
      "cell_type": "markdown",
      "metadata": {
        "id": "dYo9rDiwYQzg"
      },
      "source": [
        "Here, we use the [breast cancer](https://scikit-learn.org/stable/modules/generated/sklearn.datasets.load_breast_cancer.html#sklearn.datasets.load_breast_cancer) dataset in sklearn. It is a binary classification dataset. Each sample has 30 numerical features, which can be found in [7.1.7](https://scikit-learn.org/stable/datasets/toy_dataset.html)."
      ]
    },
    {
      "cell_type": "code",
      "execution_count": null,
      "metadata": {
        "id": "XiqK37OHYQzg",
        "outputId": "42beecb0-a452-4238-9de9-8ed99677dc4b"
      },
      "outputs": [
        {
          "name": "stdout",
          "output_type": "stream",
          "text": [
            "#samples: 569, #features: 30\n"
          ]
        }
      ],
      "source": [
        "import numpy as np\n",
        "from sklearn.model_selection import train_test_split\n",
        "from sklearn import datasets\n",
        "from sklearn.preprocessing import StandardScaler\n",
        "from sklearn.linear_model import LogisticRegression\n",
        "from sklearn.metrics import accuracy_score\n",
        "from sklearn.metrics import f1_score\n",
        "from sklearn.metrics import recall_score\n",
        "from sklearn.metrics import precision_score\n",
        "from random import shuffle\n",
        "import random\n",
        "random.seed(123)\n",
        "\n",
        "X, y = datasets.load_breast_cancer(return_X_y=True)\n",
        "print(\"#samples: {}, #features: {}\".format(X.shape[0], X.shape[1]))"
      ]
    },
    {
      "cell_type": "markdown",
      "metadata": {
        "id": "eDBM_HjfYQzi"
      },
      "source": [
        "### 1.2 Split the data into two subsets and normalize the features of samples\n",
        "\n",
        "Here, we use 69 samples as the testing set and use the remained samples to train the logistic regression model."
      ]
    },
    {
      "cell_type": "code",
      "execution_count": null,
      "metadata": {
        "id": "xgnFUPf1YQzi",
        "outputId": "dc6b9a37-327c-45a2-b381-9c53a099fffb"
      },
      "outputs": [
        {
          "name": "stdout",
          "output_type": "stream",
          "text": [
            "train_val: 500, test: 69\n"
          ]
        }
      ],
      "source": [
        "X_train_val, X_test, y_train_val, y_test = train_test_split(X, y,\n",
        "                                                            test_size=0.12,\n",
        "                                                            random_state=0)\n",
        "print(\"train_val: {}, test: {}\".format(X_train_val.shape[0], X_test.shape[0]))\n",
        "\n",
        "normalizer = StandardScaler()\n",
        "X_train_val = normalizer.fit_transform(X_train_val)\n",
        "X_test = normalizer.transform(X_test)\n"
      ]
    },
    {
      "cell_type": "markdown",
      "metadata": {
        "id": "bhuQx4GwYQzi"
      },
      "source": [
        "### 1.3 Train the logistic regression model and select the hyperparameter with cross-validation\n",
        "\n",
        "Here, we use the following logistic regression model to do cancer classification.\n",
        "\n",
        "\\begin{equation}\n",
        "\t\\min_{\\mathbf{w}} \\sum_{i=1}^{n}\\{\\log(1+\\exp(\\mathbf{w}^T\\mathbf{x}_i))-y_i\\mathbf{w}^T\\mathbf{x}_i \\} + \\lambda\\|\\mathbf{w}\\|_2^2\n",
        "\\end{equation}\n",
        "\n",
        "We need to learn the model parameter $\\mathbf{w}$. However, with different hyperparameters $\\lambda$, we can get different model parameter $\\mathbf{w}$, resulting in different prediction performance. Here, we use the 5-fold cross-validation to select the hyperparameter $\\lambda$."
      ]
    },
    {
      "cell_type": "code",
      "execution_count": null,
      "metadata": {
        "id": "qwcF6u-xYQzi",
        "outputId": "2328aeff-7dc5-40bd-9a5f-3fa6e2d0136b"
      },
      "outputs": [
        {
          "name": "stdout",
          "output_type": "stream",
          "text": [
            "[[380 468 145   2 282 103 148 312 130 411 168 204 113 132 418 270 351 157\n",
            "  451 339 288 277 354  48 318 303 314 234  95 304 271 434 173 357 495 133\n",
            "  431  39 490 310 317 471  23 426 224 286  20 365 255 216 405  79 228 445\n",
            "  189 184 243 358 276 218 488  60 438 159 167 349  89 121 333  51   9 482\n",
            "  152 416 379 306 111 185 340 489 475  93  84 376 291 158 250 323 406 460\n",
            "   50 433 372  66 108 465  71 298 369 437]\n",
            " [211  11 110 142  28  59 163  38  24 205 440 140 177 252 235 245 242  25\n",
            "   21 217 160 231  77 151  54 345 280 257 456 308 331  58 360 179 464 388\n",
            "  129 285 347  56 387 169  36 138 319 296 246 122  33 127 109 363 183 196\n",
            "  422  86 400 297 346 116  63  88 477 144 112 362 399 334  62 353 146 373\n",
            "   27  76 260 150 210 195 290  82 154 432 320 361  75  17  94 238 143 469\n",
            "   67 225 391 106  15  97  46  49 192 226]\n",
            " [114 302 356  91  80 107 329 209 384 409  13 176 299 483 295 491 332 292\n",
            "  153 202 268   1 417 313 375 128 352  57 408 254 382 390 377 328 213 182\n",
            "   65   7 315 101 187 126 123 394 201 251 494 239 383 367 237  34 307 141\n",
            "  403 344 162  43 118 498  99 392 102 258 100  41 281 364 492 448 164 104\n",
            "  124 259 355 458 484 115 309 338  53 381 442  70 284 263 419 166 441 481\n",
            "  335 219 155 294 230 378 476 232 480  31]\n",
            " [343 197 301  85  61 264 446 273 455 188 199 452  74 443 423 395 265  29\n",
            "   40 120 190  73 348 415 474 337  12 178 212 402 478 412 241 454 165  14\n",
            "  206 325 279 398 366 462   4 221 421 389 181 413  32 316 493 473 215 324\n",
            "  425 139 424 385 131 453  98 470  68   5 459 236 466 227 487  78  90 439\n",
            "  278 119 368 322 253 147 435  30 397 256 272 207 117 180 430 186 321  45\n",
            "  300  96   8 401 450 198 233 370  37 200]\n",
            " [283 479 171  87 134 336 249  42 371  92 427 386  16 261 191 214 342 266\n",
            "  248 467 457 407 326 275 350 222 262 330 444 203   6 472 414 289 269 327\n",
            "  311 420 105 247 410 267 175 156 496  18 428 240 135 244 293 220 149  10\n",
            "  404  64  72 341  47  22  52 229 374 161   3  35 193 305 449 497 396 223\n",
            "  463   0  83 125 359 485 486 172  69  81 499 436 174 170 287 274 194  19\n",
            "  447 461 429  55 136 208 393  44 137  26]]\n",
            "reg_coeff: 10.0, acc: 0.970\n",
            "reg_coeff: 2.0, acc: 0.978\n",
            "reg_coeff: 1.0, acc: 0.972\n",
            "reg_coeff: 0.2, acc: 0.968\n",
            "reg_coeff: 0.1, acc: 0.968\n"
          ]
        }
      ],
      "source": [
        "# here we use 5-fold cross-validation\n",
        "folds = 5\n",
        "\n",
        "# get the number of samples in the training and validation set\n",
        "num_train_val = X_train_val.shape[0]\n",
        "\n",
        "# shuffle the index of samples in the train_val set\n",
        "index_of_samples = np.arange(num_train_val)\n",
        "shuffle(index_of_samples)\n",
        "\n",
        "# split the index of the train_valid set into 5 folds\n",
        "index_of_folds = index_of_samples.reshape(folds, -1)\n",
        "print(index_of_folds)\n",
        "\n",
        "# potential hyperparameters.\n",
        "#These hyperparameters are just used for illustration.\n",
        "#You should try more hyperparameters to get a good model.\n",
        "#The hyperparameters must be nonnegative!\n",
        "regularization_coefficient = [0.1, 0.5, 1.0, 5.0, 10.0]\n",
        "\n",
        "best_acc = 0.0\n",
        "best_reg = 0.0\n",
        "\n",
        "for reg in regularization_coefficient:\n",
        "\n",
        "    # 5-fold cross-validation\n",
        "    sum_acc = 0.0\n",
        "    for fold in range(folds):\n",
        "\n",
        "        index_of_folds_temp = index_of_folds.copy()\n",
        "\n",
        "        valid_index = index_of_folds_temp[fold,:].reshape(-1) #get the index of the validation set\n",
        "        train_index = np.delete(index_of_folds_temp, fold, 0).reshape(-1) #get the index of the training set\n",
        "\n",
        "        # training set\n",
        "        X_train = X_train_val[train_index]\n",
        "        y_train = y_train_val[train_index]\n",
        "\n",
        "        # validation set\n",
        "        X_valid = X_train_val[valid_index]\n",
        "        y_valid = y_train_val[valid_index]\n",
        "\n",
        "        # build the model with different hyperparameters\n",
        "        clf = LogisticRegression(penalty='l2', C=reg, solver='lbfgs')\n",
        "\n",
        "        #train the model with the training set\n",
        "        clf.fit(X_train, y_train)\n",
        "\n",
        "        y_valid_pred = clf.predict(X_valid)\n",
        "        acc = accuracy_score(y_valid, y_valid_pred)\n",
        "\n",
        "        sum_acc += acc\n",
        "\n",
        "    cur_acc = sum_acc / folds\n",
        "\n",
        "    print(\"reg_coeff: {}, acc: {:.3f}\".format(1.0/reg, cur_acc))\n",
        "\n",
        "    # store the best hyperparameter\n",
        "    if cur_acc > best_acc:\n",
        "        best_acc = cur_acc\n",
        "        best_reg = reg\n",
        "\n",
        "\n"
      ]
    },
    {
      "cell_type": "markdown",
      "metadata": {
        "id": "jIcreFucYQzj"
      },
      "source": [
        "### 1.4 Evaluate the learned model\n",
        "\n",
        "After getting the best hyperparameter $\\lambda$, we retrain the model with the train_val set. Then, we evaluate this  model on the testing set."
      ]
    },
    {
      "cell_type": "code",
      "execution_count": null,
      "metadata": {
        "id": "fBCn8MkDYQzj",
        "outputId": "1e01443a-98a3-4f75-e699-f39f8ae87936"
      },
      "outputs": [
        {
          "name": "stdout",
          "output_type": "stream",
          "text": [
            "accuracy: 1.000, recall: 1.000, precision: 1.000, f1: 1.000,\n"
          ]
        }
      ],
      "source": [
        "# retrain the model\n",
        "clf = LogisticRegression(penalty='l2', C=best_reg, solver='lbfgs')\n",
        "clf.fit(X_train_val, y_train_val)\n",
        "\n",
        "# evaluate the model on the testing set\n",
        "y_test_pred = clf.predict(X_test)\n",
        "\n",
        "\n",
        "acc = accuracy_score(y_test, y_test_pred)\n",
        "f1 = f1_score(y_test, y_test_pred)\n",
        "recall = recall_score(y_test, y_test_pred)\n",
        "precision = precision_score(y_test, y_test_pred)\n",
        "\n",
        "\n",
        "print(\"accuracy: {:.3f}, recall: {:.3f}, precision: {:.3f}, f1: {:.3f},\".format(acc, recall, precision, f1))"
      ]
    },
    {
      "cell_type": "markdown",
      "metadata": {
        "id": "wLDov2ZCYQzj"
      },
      "source": [
        "## 2. Task\n",
        "\n",
        "Here, we use the [heart disease](./heart.csv) dataset. Each sample has the following feature:\n",
        "\n",
        "* age\n",
        "* sex\n",
        "* chest pain type (4 values)\n",
        "* resting blood pressure\n",
        "* serum cholestoral in mg/dl\n",
        "* fasting blood sugar > 120 mg/dl\n",
        "* resting electrocardiographic results (values 0,1,2)\n",
        "* maximum heart rate achieved\n",
        "* exercise induced angina\n",
        "* oldpeak = ST depression induced by exercise relative to rest\n",
        "* the slope of the peak exercise ST segment\n",
        "* number of major vessels (0-3) colored by flourosopy\n",
        "* thal: 3 = normal; 6 = fixed defect; 7 = reversable defect\n",
        "\n",
        "The last column refers to the presence of heart disease in the patient.\n",
        "\n",
        "The task is to predict whether a person has the heart disease."
      ]
    },
    {
      "cell_type": "markdown",
      "metadata": {
        "id": "Aj3zsxvFYQzj"
      },
      "source": [
        "## 2.1 Preprocess the raw data\n",
        "\n",
        "* Check whether there are missing values\n",
        "* Check whether theare are cateogrical features\n",
        "* Check whether this dataset is balanced or not (use the bar plot to visualize the number of positive and negative samples)\n"
      ]
    },
    {
      "cell_type": "code",
      "source": [
        "import numpy as np\n",
        "import pandas as pd\n",
        "from sklearn.model_selection import train_test_split\n",
        "from sklearn import datasets\n",
        "from sklearn.preprocessing import StandardScaler\n",
        "from sklearn.linear_model import LogisticRegression\n",
        "from sklearn.metrics import accuracy_score\n",
        "from sklearn.metrics import f1_score\n",
        "from sklearn.metrics import recall_score\n",
        "from sklearn.metrics import precision_score\n",
        "from random import shuffle\n",
        "import random\n",
        "random.seed(123)"
      ],
      "metadata": {
        "id": "s3y48-2ROKt0"
      },
      "execution_count": 4,
      "outputs": []
    },
    {
      "cell_type": "code",
      "source": [
        "#upload data file\n",
        "from google.colab import drive\n",
        "drive.mount('/content/drive')\n",
        "\n",
        "from google.colab import files\n",
        "uploaded = files.upload()"
      ],
      "metadata": {
        "colab": {
          "base_uri": "https://localhost:8080/",
          "height": 92
        },
        "id": "HvTdu8j2OMIO",
        "outputId": "c5f37ade-42fa-4359-ca66-2e1cbb2e8a55"
      },
      "execution_count": 5,
      "outputs": [
        {
          "output_type": "stream",
          "name": "stdout",
          "text": [
            "Mounted at /content/drive\n"
          ]
        },
        {
          "output_type": "display_data",
          "data": {
            "text/plain": [
              "<IPython.core.display.HTML object>"
            ],
            "text/html": [
              "\n",
              "     <input type=\"file\" id=\"files-c280489d-267e-449f-9958-abd75ec1a661\" name=\"files[]\" multiple disabled\n",
              "        style=\"border:none\" />\n",
              "     <output id=\"result-c280489d-267e-449f-9958-abd75ec1a661\">\n",
              "      Upload widget is only available when the cell has been executed in the\n",
              "      current browser session. Please rerun this cell to enable.\n",
              "      </output>\n",
              "      <script>// Copyright 2017 Google LLC\n",
              "//\n",
              "// Licensed under the Apache License, Version 2.0 (the \"License\");\n",
              "// you may not use this file except in compliance with the License.\n",
              "// You may obtain a copy of the License at\n",
              "//\n",
              "//      http://www.apache.org/licenses/LICENSE-2.0\n",
              "//\n",
              "// Unless required by applicable law or agreed to in writing, software\n",
              "// distributed under the License is distributed on an \"AS IS\" BASIS,\n",
              "// WITHOUT WARRANTIES OR CONDITIONS OF ANY KIND, either express or implied.\n",
              "// See the License for the specific language governing permissions and\n",
              "// limitations under the License.\n",
              "\n",
              "/**\n",
              " * @fileoverview Helpers for google.colab Python module.\n",
              " */\n",
              "(function(scope) {\n",
              "function span(text, styleAttributes = {}) {\n",
              "  const element = document.createElement('span');\n",
              "  element.textContent = text;\n",
              "  for (const key of Object.keys(styleAttributes)) {\n",
              "    element.style[key] = styleAttributes[key];\n",
              "  }\n",
              "  return element;\n",
              "}\n",
              "\n",
              "// Max number of bytes which will be uploaded at a time.\n",
              "const MAX_PAYLOAD_SIZE = 100 * 1024;\n",
              "\n",
              "function _uploadFiles(inputId, outputId) {\n",
              "  const steps = uploadFilesStep(inputId, outputId);\n",
              "  const outputElement = document.getElementById(outputId);\n",
              "  // Cache steps on the outputElement to make it available for the next call\n",
              "  // to uploadFilesContinue from Python.\n",
              "  outputElement.steps = steps;\n",
              "\n",
              "  return _uploadFilesContinue(outputId);\n",
              "}\n",
              "\n",
              "// This is roughly an async generator (not supported in the browser yet),\n",
              "// where there are multiple asynchronous steps and the Python side is going\n",
              "// to poll for completion of each step.\n",
              "// This uses a Promise to block the python side on completion of each step,\n",
              "// then passes the result of the previous step as the input to the next step.\n",
              "function _uploadFilesContinue(outputId) {\n",
              "  const outputElement = document.getElementById(outputId);\n",
              "  const steps = outputElement.steps;\n",
              "\n",
              "  const next = steps.next(outputElement.lastPromiseValue);\n",
              "  return Promise.resolve(next.value.promise).then((value) => {\n",
              "    // Cache the last promise value to make it available to the next\n",
              "    // step of the generator.\n",
              "    outputElement.lastPromiseValue = value;\n",
              "    return next.value.response;\n",
              "  });\n",
              "}\n",
              "\n",
              "/**\n",
              " * Generator function which is called between each async step of the upload\n",
              " * process.\n",
              " * @param {string} inputId Element ID of the input file picker element.\n",
              " * @param {string} outputId Element ID of the output display.\n",
              " * @return {!Iterable<!Object>} Iterable of next steps.\n",
              " */\n",
              "function* uploadFilesStep(inputId, outputId) {\n",
              "  const inputElement = document.getElementById(inputId);\n",
              "  inputElement.disabled = false;\n",
              "\n",
              "  const outputElement = document.getElementById(outputId);\n",
              "  outputElement.innerHTML = '';\n",
              "\n",
              "  const pickedPromise = new Promise((resolve) => {\n",
              "    inputElement.addEventListener('change', (e) => {\n",
              "      resolve(e.target.files);\n",
              "    });\n",
              "  });\n",
              "\n",
              "  const cancel = document.createElement('button');\n",
              "  inputElement.parentElement.appendChild(cancel);\n",
              "  cancel.textContent = 'Cancel upload';\n",
              "  const cancelPromise = new Promise((resolve) => {\n",
              "    cancel.onclick = () => {\n",
              "      resolve(null);\n",
              "    };\n",
              "  });\n",
              "\n",
              "  // Wait for the user to pick the files.\n",
              "  const files = yield {\n",
              "    promise: Promise.race([pickedPromise, cancelPromise]),\n",
              "    response: {\n",
              "      action: 'starting',\n",
              "    }\n",
              "  };\n",
              "\n",
              "  cancel.remove();\n",
              "\n",
              "  // Disable the input element since further picks are not allowed.\n",
              "  inputElement.disabled = true;\n",
              "\n",
              "  if (!files) {\n",
              "    return {\n",
              "      response: {\n",
              "        action: 'complete',\n",
              "      }\n",
              "    };\n",
              "  }\n",
              "\n",
              "  for (const file of files) {\n",
              "    const li = document.createElement('li');\n",
              "    li.append(span(file.name, {fontWeight: 'bold'}));\n",
              "    li.append(span(\n",
              "        `(${file.type || 'n/a'}) - ${file.size} bytes, ` +\n",
              "        `last modified: ${\n",
              "            file.lastModifiedDate ? file.lastModifiedDate.toLocaleDateString() :\n",
              "                                    'n/a'} - `));\n",
              "    const percent = span('0% done');\n",
              "    li.appendChild(percent);\n",
              "\n",
              "    outputElement.appendChild(li);\n",
              "\n",
              "    const fileDataPromise = new Promise((resolve) => {\n",
              "      const reader = new FileReader();\n",
              "      reader.onload = (e) => {\n",
              "        resolve(e.target.result);\n",
              "      };\n",
              "      reader.readAsArrayBuffer(file);\n",
              "    });\n",
              "    // Wait for the data to be ready.\n",
              "    let fileData = yield {\n",
              "      promise: fileDataPromise,\n",
              "      response: {\n",
              "        action: 'continue',\n",
              "      }\n",
              "    };\n",
              "\n",
              "    // Use a chunked sending to avoid message size limits. See b/62115660.\n",
              "    let position = 0;\n",
              "    do {\n",
              "      const length = Math.min(fileData.byteLength - position, MAX_PAYLOAD_SIZE);\n",
              "      const chunk = new Uint8Array(fileData, position, length);\n",
              "      position += length;\n",
              "\n",
              "      const base64 = btoa(String.fromCharCode.apply(null, chunk));\n",
              "      yield {\n",
              "        response: {\n",
              "          action: 'append',\n",
              "          file: file.name,\n",
              "          data: base64,\n",
              "        },\n",
              "      };\n",
              "\n",
              "      let percentDone = fileData.byteLength === 0 ?\n",
              "          100 :\n",
              "          Math.round((position / fileData.byteLength) * 100);\n",
              "      percent.textContent = `${percentDone}% done`;\n",
              "\n",
              "    } while (position < fileData.byteLength);\n",
              "  }\n",
              "\n",
              "  // All done.\n",
              "  yield {\n",
              "    response: {\n",
              "      action: 'complete',\n",
              "    }\n",
              "  };\n",
              "}\n",
              "\n",
              "scope.google = scope.google || {};\n",
              "scope.google.colab = scope.google.colab || {};\n",
              "scope.google.colab._files = {\n",
              "  _uploadFiles,\n",
              "  _uploadFilesContinue,\n",
              "};\n",
              "})(self);\n",
              "</script> "
            ]
          },
          "metadata": {}
        },
        {
          "output_type": "stream",
          "name": "stdout",
          "text": [
            "Saving heart.csv to heart.csv\n"
          ]
        }
      ]
    },
    {
      "cell_type": "code",
      "execution_count": 6,
      "metadata": {
        "colab": {
          "base_uri": "https://localhost:8080/"
        },
        "id": "ti5gEa6MYQzj",
        "outputId": "a8551fc7-a170-4524-a622-29ae784a90c2"
      },
      "outputs": [
        {
          "output_type": "stream",
          "name": "stdout",
          "text": [
            "age         0\n",
            "sex         0\n",
            "cp          0\n",
            "trestbps    0\n",
            "chol        0\n",
            "fbs         0\n",
            "restecg     0\n",
            "thalach     0\n",
            "exang       0\n",
            "oldpeak     0\n",
            "slope       0\n",
            "ca          0\n",
            "thal        0\n",
            "target      0\n",
            "dtype: int64\n",
            "<class 'pandas.core.frame.DataFrame'>\n",
            "RangeIndex: 303 entries, 0 to 302\n",
            "Data columns (total 14 columns):\n",
            " #   Column    Non-Null Count  Dtype  \n",
            "---  ------    --------------  -----  \n",
            " 0   age       303 non-null    int64  \n",
            " 1   sex       303 non-null    int64  \n",
            " 2   cp        303 non-null    int64  \n",
            " 3   trestbps  303 non-null    int64  \n",
            " 4   chol      303 non-null    int64  \n",
            " 5   fbs       303 non-null    int64  \n",
            " 6   restecg   303 non-null    int64  \n",
            " 7   thalach   303 non-null    int64  \n",
            " 8   exang     303 non-null    int64  \n",
            " 9   oldpeak   303 non-null    float64\n",
            " 10  slope     303 non-null    int64  \n",
            " 11  ca        303 non-null    int64  \n",
            " 12  thal      303 non-null    int64  \n",
            " 13  target    303 non-null    int64  \n",
            "dtypes: float64(1), int64(13)\n",
            "memory usage: 33.3 KB\n",
            "None\n"
          ]
        }
      ],
      "source": [
        "# read data\n",
        "df = pd.read_csv(\"heart.csv\")\n",
        "\n",
        "# Check whether there are missing values\n",
        "print(df.isnull().sum())\n",
        "\n",
        "# Check whether there are categorical features\n",
        "print(df.info())"
      ]
    },
    {
      "cell_type": "markdown",
      "source": [
        "* There are no missing values\n",
        "* There are no categorical features"
      ],
      "metadata": {
        "id": "E-SZ6UsHPu1M"
      }
    },
    {
      "cell_type": "code",
      "source": [
        "# Check whether this dataset is balanced or not\n",
        "import matplotlib.pyplot as plt\n",
        "\n",
        "# Number of positive / negative samples\n",
        "counts = df['target'].value_counts()\n",
        "\n",
        "# Plot counts using a bar plot\n",
        "plt.bar(counts.index, counts.values)\n",
        "plt.title('Patients Heart Disease Results')\n",
        "plt.xticks(counts.index, ['Negative', 'Positive'])\n",
        "plt.show()"
      ],
      "metadata": {
        "colab": {
          "base_uri": "https://localhost:8080/",
          "height": 452
        },
        "id": "SOTEOE6bQGrq",
        "outputId": "d8aa35a6-9773-4843-cf46-1456a68b056c"
      },
      "execution_count": 7,
      "outputs": [
        {
          "output_type": "display_data",
          "data": {
            "text/plain": [
              "<Figure size 640x480 with 1 Axes>"
            ],
            "image/png": "[encoded data removed]"
          },
          "metadata": {}
        }
      ]
    },
    {
      "cell_type": "markdown",
      "source": [
        "* The dataset is balanced"
      ],
      "metadata": {
        "id": "Y1Nq0J2ySGNY"
      }
    },
    {
      "cell_type": "markdown",
      "metadata": {
        "id": "FwGtSypcYQzj"
      },
      "source": [
        "### 2.2 Split the data into two subsets and normalize the features of samples\n",
        "\n",
        "* Split the dataset into the train_val set and testing set.\n",
        "* Normalize features"
      ]
    },
    {
      "cell_type": "code",
      "execution_count": 10,
      "metadata": {
        "colab": {
          "base_uri": "https://localhost:8080/"
        },
        "id": "-hB-wJI_YQzj",
        "outputId": "094b7232-ffbf-45d3-c887-0724d0cdf4f3"
      },
      "outputs": [
        {
          "output_type": "stream",
          "name": "stdout",
          "text": [
            "train_val: 260, test: 43\n"
          ]
        }
      ],
      "source": [
        "# split\n",
        "X = df.drop('target', axis=1).values\n",
        "y = df['target'].values\n",
        "\n",
        "X_train_val, X_test, y_train_val, y_test = train_test_split(X, y,\n",
        "                                                            test_size = 0.14,\n",
        "                                                            random_state = 0)\n",
        "\n",
        "# normalize\n",
        "normalizer = StandardScaler()\n",
        "X_train_val = normalizer.fit_transform(X_train_val)\n",
        "X_test = normalizer.transform(X_test)\n",
        "\n",
        "print(\"train_val: {}, test: {}\".format(X_train_val.shape[0], X_test.shape[0]))"
      ]
    },
    {
      "cell_type": "markdown",
      "metadata": {
        "id": "etzY01kvYQzk"
      },
      "source": [
        "### 2.3 Train the logistic regression model and select the hyperparameter with cross-validation\n",
        "\n",
        "\\begin{equation}\n",
        "\t\\min_{\\mathbf{w}} \\sum_{i=1}^{n}\\{\\log(1+\\exp(\\mathbf{w}^T\\mathbf{x}_i))-y_i\\mathbf{w}^T\\mathbf{x}_i \\} + \\lambda\\|\\mathbf{w}\\|_2^2\n",
        "\\end{equation}\n",
        "\n",
        "* Use the 10-fold cross-validation to select the hyperparameter $\\lambda$.\n",
        "* Search $\\lambda$ from $\\{10^{-5}, 10^{-4}, 10^{-3}, 10^{-2}, 10^{-1}, 1, 10, 20, 50, 100\\}$\n"
      ]
    },
    {
      "cell_type": "code",
      "execution_count": 16,
      "metadata": {
        "colab": {
          "base_uri": "https://localhost:8080/"
        },
        "id": "BC23pQ3YYQzk",
        "outputId": "d888d8f4-6492-4fd2-91c3-7070c68f390e"
      },
      "outputs": [
        {
          "output_type": "stream",
          "name": "stdout",
          "text": [
            "reg_coeff: 99999.99999999999, acc: 0.554\n",
            "reg_coeff: 10000.0, acc: 0.554\n",
            "reg_coeff: 1000.0, acc: 0.692\n",
            "reg_coeff: 100.0, acc: 0.838\n",
            "reg_coeff: 10.0, acc: 0.823\n",
            "reg_coeff: 1.0, acc: 0.827\n",
            "reg_coeff: 0.1, acc: 0.827\n",
            "reg_coeff: 0.05, acc: 0.827\n",
            "reg_coeff: 0.02, acc: 0.827\n",
            "reg_coeff: 0.01, acc: 0.827\n",
            "Best regularization coefficient: 0.01\n"
          ]
        }
      ],
      "source": [
        "# Use the 10-fold cross-validation to select the hyperparameter 𝜆\n",
        "regularization_coeff = [0.00001, 0.0001, 0.001, 0.01, 0.1, 1, 10, 20, 50, 100]\n",
        "\n",
        "best_acc = 0.0\n",
        "best_reg = 0.0\n",
        "\n",
        "folds = 10\n",
        "\n",
        "# get the number of samples in the training and validation set\n",
        "num_train_val = X_train_val.shape[0]\n",
        "#print(num_train_val)\n",
        "\n",
        "# shuffle the index of samples in the train_val set\n",
        "index_of_samples = np.arange(num_train_val)\n",
        "#print(index_of_samples)\n",
        "shuffle(index_of_samples)\n",
        "\n",
        "# split the index of the train_valid set into 10 folds\n",
        "index_of_folds = index_of_samples.reshape(folds, -1)\n",
        "#print(index_of_folds)\n",
        "\n",
        "for reg in regularization_coeff:\n",
        "\n",
        "  sum_acc = 0.0\n",
        "\n",
        "  for fold in range(10):\n",
        "    index_of_folds_temp = index_of_folds.copy()\n",
        "\n",
        "    valid_index = index_of_folds_temp[fold,:].reshape(-1)\n",
        "    train_index = np.delete(index_of_folds_temp, fold, 0).reshape(-1)\n",
        "\n",
        "    # training set\n",
        "    X_train = X_train_val[train_index]\n",
        "    y_train = y_train_val[train_index]\n",
        "\n",
        "    # validation set\n",
        "    X_valid = X_train_val[valid_index]\n",
        "    y_valid = y_train_val[valid_index]\n",
        "\n",
        "    # build the model with different hyperparameters\n",
        "    clf = LogisticRegression(penalty='l2', C=reg, solver='lbfgs')\n",
        "\n",
        "    #train the model with the training set\n",
        "    clf.fit(X_train, y_train)\n",
        "\n",
        "    #validation set to calculate accuracy\n",
        "    y_valid_pred = clf.predict(X_valid)\n",
        "    acc = accuracy_score(y_valid, y_valid_pred)\n",
        "\n",
        "    sum_acc += acc\n",
        "\n",
        "  cur_acc = sum_acc / folds\n",
        "\n",
        "  print(\"reg_coeff: {}, acc: {:.3f}\".format(1.0/reg, cur_acc))\n",
        "\n",
        "  # store the best hyperparameter\n",
        "  if cur_acc > best_acc:\n",
        "    best_acc = cur_acc\n",
        "    best_reg = reg\n",
        "\n",
        "print(\"Best regularization coefficient: {}\".format(best_reg))"
      ]
    },
    {
      "cell_type": "markdown",
      "metadata": {
        "id": "q32Ur4bHYQzk"
      },
      "source": [
        "### 2.4 Evaluate the learned model\n",
        "\n",
        "* Report the prediction accuracy, recall, precision, and F1 score.\n",
        "\n",
        "* Use the bar plot to visualize the elements of the learned model parameter vector $\\mathbf{w}$. Some elements  have larger absolute values, while the others do not. Try to explain this phenomenon."
      ]
    },
    {
      "cell_type": "code",
      "execution_count": 15,
      "metadata": {
        "colab": {
          "base_uri": "https://localhost:8080/"
        },
        "id": "xzsGmC9uYQzk",
        "outputId": "1b4e171f-5101-465b-fb16-d9f4d50aeef2"
      },
      "outputs": [
        {
          "output_type": "stream",
          "name": "stdout",
          "text": [
            "accuracy: 0.791, recall: 0.905, precision: 0.731, f1: 0.809\n"
          ]
        }
      ],
      "source": [
        "# evaluate the learned model\n",
        "clf = LogisticRegression(penalty='l2', C=best_reg, solver='lbfgs')\n",
        "clf.fit(X_train_val, y_train_val)\n",
        "\n",
        "# evaluate the model on the testing set\n",
        "y_test_pred = clf.predict(X_test)\n",
        "\n",
        "# accuracy\n",
        "acc = accuracy_score(y_test, y_test_pred)\n",
        "\n",
        "# f1 score\n",
        "f1 = f1_score(y_test, y_test_pred)\n",
        "\n",
        "# recall\n",
        "recall = recall_score(y_test, y_test_pred)\n",
        "\n",
        "# precision\n",
        "precision = precision_score(y_test, y_test_pred)\n",
        "\n",
        "print(\"accuracy: {:.3f}, recall: {:.3f}, precision: {:.3f}, f1: {:.3f}\".format(acc, recall, precision, f1))"
      ]
    },
    {
      "cell_type": "code",
      "source": [
        "# Use the bar plot to visualize the elements of the learned model parameter vector 𝐰 .\n",
        "# Some elements have larger absolute values, while the others do not. Try to explain this phenomenon.\n",
        "\n",
        "fig = plt.figure(figsize=(10,8))\n",
        "plt.title(\"Learned model parameter, w\")\n",
        "plt.bar(df.columns[:-1], clf.coef_[0])\n",
        "plt.show()"
      ],
      "metadata": {
        "colab": {
          "base_uri": "https://localhost:8080/",
          "height": 699
        },
        "id": "oSvcD7nWQMjN",
        "outputId": "4f764d1c-c281-4d20-ca6d-c86d13b9e2ea"
      },
      "execution_count": 14,
      "outputs": [
        {
          "output_type": "display_data",
          "data": {
            "text/plain": [
              "<Figure size 1000x800 with 1 Axes>"
            ],
            "image/png": "[encoded data removed]"
          },
          "metadata": {}
        }
      ]
    },
    {
      "cell_type": "markdown",
      "source": [
        "* Some elements have larger absolute values, while the others do not. Try to explain this phenomenon.\n",
        "\n",
        "  ```Elements with larger absolute values, i.e., larger model weights, have a greater contribution in determining the output.```\n",
        "\n",
        "  In this case, the elements 'cp' and 'ca' have large absolute values, meaning that they are important contributions in determining presence or absence of heart disease.\n",
        "\n",
        "  ```Elements with smaller absolute values, i.e., smaller model weights, have a smaller contribution in determining the output.```\n",
        "  \n",
        "  In this case, the elements 'chol' and 'fbs' have small absolute values, meaning that they are not as important in determining whether someone has heart disease."
      ],
      "metadata": {
        "id": "lE6FRJieVicx"
      }
    }
  ],
  "metadata": {
    "kernelspec": {
      "display_name": "Python 3",
      "language": "python",
      "name": "python3"
    },
    "language_info": {
      "codemirror_mode": {
        "name": "ipython",
        "version": 3
      },
      "file_extension": ".py",
      "mimetype": "text/x-python",
      "name": "python",
      "nbconvert_exporter": "python",
      "pygments_lexer": "ipython3",
      "version": "3.7.1"
    },
    "colab": {
      "provenance": []
    }
  },
  "nbformat": 4,
  "nbformat_minor": 0
}