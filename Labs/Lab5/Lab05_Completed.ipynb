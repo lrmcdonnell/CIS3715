{
  "cells": [
    {
      "cell_type": "markdown",
      "metadata": {
        "id": "zRGNx529zDIz"
      },
      "source": [
        "# Lab 5: KNN"
      ]
    },
    {
      "cell_type": "markdown",
      "metadata": {
        "id": "bKxPQ3AkzDI1"
      },
      "source": [
        "In this assignment, we will learn the KNN model.\n",
        "\n",
        "First, please study the given example, which uses the KNN model for the breast cancer classification task. In this example, you will learn how to preprocess data, how to train the model, and how to evaluate the model.\n",
        "\n",
        "Based on the given example, your task is to use the KNN model to predict the presence of heart disease.\n"
      ]
    },
    {
      "cell_type": "markdown",
      "metadata": {
        "id": "UUXbH0kFzDI1"
      },
      "source": [
        "## 1. Example"
      ]
    },
    {
      "cell_type": "markdown",
      "metadata": {
        "id": "Mj4R3964zDI2"
      },
      "source": [
        "### 1.1 Load the breast cancer data"
      ]
    },
    {
      "cell_type": "markdown",
      "metadata": {
        "id": "E6qbJumBzDI2"
      },
      "source": [
        "Here, we use the [breast cancer](https://scikit-learn.org/stable/modules/generated/sklearn.datasets.load_breast_cancer.html#sklearn.datasets.load_breast_cancer) dataset in sklearn. It is a binary classification dataset. Each sample has 30 numerical features, which can be found in [7.1.7](https://scikit-learn.org/stable/datasets/toy_dataset.html)."
      ]
    },
    {
      "cell_type": "code",
      "execution_count": 2,
      "metadata": {
        "colab": {
          "base_uri": "https://localhost:8080/"
        },
        "id": "_llXc8uPzDI2",
        "outputId": "483b6104-5da1-4c84-92a9-b2071c37b13e"
      },
      "outputs": [
        {
          "output_type": "stream",
          "name": "stdout",
          "text": [
            "#samples: 569, #features: 30\n"
          ]
        }
      ],
      "source": [
        "import numpy as np\n",
        "from sklearn.model_selection import train_test_split\n",
        "from sklearn import datasets\n",
        "from sklearn.preprocessing import StandardScaler\n",
        "from sklearn.model_selection import GridSearchCV\n",
        "from sklearn.neighbors import KNeighborsClassifier\n",
        "from sklearn.metrics import accuracy_score, f1_score\n",
        "from sklearn.metrics import f1_score\n",
        "from sklearn.metrics import recall_score\n",
        "from sklearn.metrics import precision_score\n",
        "from random import shuffle\n",
        "import random\n",
        "random.seed(123)\n",
        "\n",
        "X, y = datasets.load_breast_cancer(return_X_y=True)\n",
        "print(\"#samples: {}, #features: {}\".format(X.shape[0], X.shape[1]))"
      ]
    },
    {
      "cell_type": "markdown",
      "metadata": {
        "id": "MbZrhZIUzDI3"
      },
      "source": [
        "### 1.2 Split the data into two subsets and normalize the features of samples\n",
        "\n",
        "Here, we use 69 samples as the testing set and use the remained samples to train the logistic regression model."
      ]
    },
    {
      "cell_type": "code",
      "execution_count": null,
      "metadata": {
        "id": "RU5dk8IZzDI3",
        "outputId": "8e22183d-7927-45ee-8501-dcb1bbabd46a"
      },
      "outputs": [
        {
          "name": "stdout",
          "output_type": "stream",
          "text": [
            "train_val: 500, test: 69\n"
          ]
        }
      ],
      "source": [
        "X_train_val, X_test, y_train_val, y_test = train_test_split(X, y,\n",
        "                                                            test_size=0.12,\n",
        "                                                            random_state=0)\n",
        "print(\"train_val: {}, test: {}\".format(X_train_val.shape[0], X_test.shape[0]))\n",
        "\n",
        "normalizer = StandardScaler()\n",
        "X_train_val = normalizer.fit_transform(X_train_val)\n",
        "X_test = normalizer.transform(X_test)\n"
      ]
    },
    {
      "cell_type": "markdown",
      "metadata": {
        "id": "0ImDruCozDI4"
      },
      "source": [
        "### 1.3 Train the KNN model and select the hyperparameter with cross-validation\n",
        "\n",
        "Here, we use cross-validation to select the hyperparameter $K$"
      ]
    },
    {
      "cell_type": "code",
      "execution_count": null,
      "metadata": {
        "id": "V2AbWl0TzDI4",
        "outputId": "cff8fac6-cb53-4a96-cb17-cdcaec5807b9"
      },
      "outputs": [
        {
          "name": "stdout",
          "output_type": "stream",
          "text": [
            "0.964\n",
            "{'n_neighbors': 4}\n"
          ]
        }
      ],
      "source": [
        "k_range = range(1, 5)\n",
        "param_grid = dict(n_neighbors=k_range)\n",
        "\n",
        "clf_knn =  KNeighborsClassifier(n_neighbors=1)\n",
        "\n",
        "grid = GridSearchCV(clf_knn, param_grid, cv=5, scoring='accuracy')\n",
        "grid.fit(X_train_val, y_train_val)\n",
        "\n",
        "print(grid.best_score_)\n",
        "print(grid.best_params_)"
      ]
    },
    {
      "cell_type": "markdown",
      "metadata": {
        "id": "-NuJzkXJzDI4"
      },
      "source": [
        "### 1.4 Evaluate the learned model\n",
        "\n",
        "After getting the best hyperparameter $K$,  we evaluate this  model on the testing set."
      ]
    },
    {
      "cell_type": "code",
      "execution_count": null,
      "metadata": {
        "id": "aZu4TUVfzDI4",
        "outputId": "bc7e46cb-e025-41f3-db29-2d26d0d64197"
      },
      "outputs": [
        {
          "name": "stdout",
          "output_type": "stream",
          "text": [
            "accuracy: 0.971, recall: 0.975, precision: 0.975, f1: 0.975,\n"
          ]
        }
      ],
      "source": [
        "clf_knn =  KNeighborsClassifier(n_neighbors=grid.best_params_['n_neighbors'])\n",
        "clf_knn.fit(X_train_val, y_train_val)\n",
        "\n",
        "# evaluate the model on the testing set\n",
        "y_test_pred = clf_knn.predict(X_test)\n",
        "\n",
        "\n",
        "acc = accuracy_score(y_test, y_test_pred)\n",
        "f1 = f1_score(y_test, y_test_pred)\n",
        "recall = recall_score(y_test, y_test_pred)\n",
        "precision = precision_score(y_test, y_test_pred)\n",
        "\n",
        "\n",
        "print(\"accuracy: {:.3f}, recall: {:.3f}, precision: {:.3f}, f1: {:.3f},\".format(acc, recall, precision, f1))"
      ]
    },
    {
      "cell_type": "markdown",
      "metadata": {
        "id": "rQb7rCo9zDI4"
      },
      "source": [
        "## 2. Task\n",
        "\n",
        "Here, we use the [heart disease](./heart.csv) dataset. Each sample has the following feature:\n",
        "\n",
        "* age\n",
        "* sex\n",
        "* chest pain type (4 values)\n",
        "* resting blood pressure\n",
        "* serum cholestoral in mg/dl\n",
        "* fasting blood sugar > 120 mg/dl\n",
        "* resting electrocardiographic results (values 0,1,2)\n",
        "* maximum heart rate achieved\n",
        "* exercise induced angina\n",
        "* oldpeak = ST depression induced by exercise relative to rest\n",
        "* the slope of the peak exercise ST segment\n",
        "* number of major vessels (0-3) colored by flourosopy\n",
        "* thal: 3 = normal; 6 = fixed defect; 7 = reversable defect\n",
        "\n",
        "The last column refers to the presence of heart disease in the patient.\n",
        "\n",
        "The task is to predict whether a person has the heart disease. Here, you can use your code in Lab04 for Task 2.1 and Task 2.2."
      ]
    },
    {
      "cell_type": "markdown",
      "metadata": {
        "id": "z30yig7HzDI4"
      },
      "source": [
        "### 2.1 Preprocess the raw data\n",
        "\n",
        "* Check whether there are missing values\n",
        "* Check whether theare are cateogrical features\n",
        "* Check whether this dataset is balanced or not (use the bar plot to visualize the number of positive and negative samples)\n"
      ]
    },
    {
      "cell_type": "code",
      "source": [
        "# upload data\n",
        "from google.colab import drive\n",
        "drive.mount('/content/drive')\n",
        "\n",
        "from google.colab import files\n",
        "uploaded = files.upload()"
      ],
      "metadata": {
        "colab": {
          "base_uri": "https://localhost:8080/",
          "height": 92
        },
        "id": "r76PtSO10x2E",
        "outputId": "4edef219-cc03-49a7-ee8c-7c690e9fbc0e"
      },
      "execution_count": 1,
      "outputs": [
        {
          "output_type": "stream",
          "name": "stdout",
          "text": [
            "Mounted at /content/drive\n"
          ]
        },
        {
          "output_type": "display_data",
          "data": {
            "text/plain": [
              "<IPython.core.display.HTML object>"
            ],
            "text/html": [
              "\n",
              "     <input type=\"file\" id=\"files-ef40a27d-e173-454f-ba72-ca7bfce5431e\" name=\"files[]\" multiple disabled\n",
              "        style=\"border:none\" />\n",
              "     <output id=\"result-ef40a27d-e173-454f-ba72-ca7bfce5431e\">\n",
              "      Upload widget is only available when the cell has been executed in the\n",
              "      current browser session. Please rerun this cell to enable.\n",
              "      </output>\n",
              "      <script>// Copyright 2017 Google LLC\n",
              "//\n",
              "// Licensed under the Apache License, Version 2.0 (the \"License\");\n",
              "// you may not use this file except in compliance with the License.\n",
              "// You may obtain a copy of the License at\n",
              "//\n",
              "//      http://www.apache.org/licenses/LICENSE-2.0\n",
              "//\n",
              "// Unless required by applicable law or agreed to in writing, software\n",
              "// distributed under the License is distributed on an \"AS IS\" BASIS,\n",
              "// WITHOUT WARRANTIES OR CONDITIONS OF ANY KIND, either express or implied.\n",
              "// See the License for the specific language governing permissions and\n",
              "// limitations under the License.\n",
              "\n",
              "/**\n",
              " * @fileoverview Helpers for google.colab Python module.\n",
              " */\n",
              "(function(scope) {\n",
              "function span(text, styleAttributes = {}) {\n",
              "  const element = document.createElement('span');\n",
              "  element.textContent = text;\n",
              "  for (const key of Object.keys(styleAttributes)) {\n",
              "    element.style[key] = styleAttributes[key];\n",
              "  }\n",
              "  return element;\n",
              "}\n",
              "\n",
              "// Max number of bytes which will be uploaded at a time.\n",
              "const MAX_PAYLOAD_SIZE = 100 * 1024;\n",
              "\n",
              "function _uploadFiles(inputId, outputId) {\n",
              "  const steps = uploadFilesStep(inputId, outputId);\n",
              "  const outputElement = document.getElementById(outputId);\n",
              "  // Cache steps on the outputElement to make it available for the next call\n",
              "  // to uploadFilesContinue from Python.\n",
              "  outputElement.steps = steps;\n",
              "\n",
              "  return _uploadFilesContinue(outputId);\n",
              "}\n",
              "\n",
              "// This is roughly an async generator (not supported in the browser yet),\n",
              "// where there are multiple asynchronous steps and the Python side is going\n",
              "// to poll for completion of each step.\n",
              "// This uses a Promise to block the python side on completion of each step,\n",
              "// then passes the result of the previous step as the input to the next step.\n",
              "function _uploadFilesContinue(outputId) {\n",
              "  const outputElement = document.getElementById(outputId);\n",
              "  const steps = outputElement.steps;\n",
              "\n",
              "  const next = steps.next(outputElement.lastPromiseValue);\n",
              "  return Promise.resolve(next.value.promise).then((value) => {\n",
              "    // Cache the last promise value to make it available to the next\n",
              "    // step of the generator.\n",
              "    outputElement.lastPromiseValue = value;\n",
              "    return next.value.response;\n",
              "  });\n",
              "}\n",
              "\n",
              "/**\n",
              " * Generator function which is called between each async step of the upload\n",
              " * process.\n",
              " * @param {string} inputId Element ID of the input file picker element.\n",
              " * @param {string} outputId Element ID of the output display.\n",
              " * @return {!Iterable<!Object>} Iterable of next steps.\n",
              " */\n",
              "function* uploadFilesStep(inputId, outputId) {\n",
              "  const inputElement = document.getElementById(inputId);\n",
              "  inputElement.disabled = false;\n",
              "\n",
              "  const outputElement = document.getElementById(outputId);\n",
              "  outputElement.innerHTML = '';\n",
              "\n",
              "  const pickedPromise = new Promise((resolve) => {\n",
              "    inputElement.addEventListener('change', (e) => {\n",
              "      resolve(e.target.files);\n",
              "    });\n",
              "  });\n",
              "\n",
              "  const cancel = document.createElement('button');\n",
              "  inputElement.parentElement.appendChild(cancel);\n",
              "  cancel.textContent = 'Cancel upload';\n",
              "  const cancelPromise = new Promise((resolve) => {\n",
              "    cancel.onclick = () => {\n",
              "      resolve(null);\n",
              "    };\n",
              "  });\n",
              "\n",
              "  // Wait for the user to pick the files.\n",
              "  const files = yield {\n",
              "    promise: Promise.race([pickedPromise, cancelPromise]),\n",
              "    response: {\n",
              "      action: 'starting',\n",
              "    }\n",
              "  };\n",
              "\n",
              "  cancel.remove();\n",
              "\n",
              "  // Disable the input element since further picks are not allowed.\n",
              "  inputElement.disabled = true;\n",
              "\n",
              "  if (!files) {\n",
              "    return {\n",
              "      response: {\n",
              "        action: 'complete',\n",
              "      }\n",
              "    };\n",
              "  }\n",
              "\n",
              "  for (const file of files) {\n",
              "    const li = document.createElement('li');\n",
              "    li.append(span(file.name, {fontWeight: 'bold'}));\n",
              "    li.append(span(\n",
              "        `(${file.type || 'n/a'}) - ${file.size} bytes, ` +\n",
              "        `last modified: ${\n",
              "            file.lastModifiedDate ? file.lastModifiedDate.toLocaleDateString() :\n",
              "                                    'n/a'} - `));\n",
              "    const percent = span('0% done');\n",
              "    li.appendChild(percent);\n",
              "\n",
              "    outputElement.appendChild(li);\n",
              "\n",
              "    const fileDataPromise = new Promise((resolve) => {\n",
              "      const reader = new FileReader();\n",
              "      reader.onload = (e) => {\n",
              "        resolve(e.target.result);\n",
              "      };\n",
              "      reader.readAsArrayBuffer(file);\n",
              "    });\n",
              "    // Wait for the data to be ready.\n",
              "    let fileData = yield {\n",
              "      promise: fileDataPromise,\n",
              "      response: {\n",
              "        action: 'continue',\n",
              "      }\n",
              "    };\n",
              "\n",
              "    // Use a chunked sending to avoid message size limits. See b/62115660.\n",
              "    let position = 0;\n",
              "    do {\n",
              "      const length = Math.min(fileData.byteLength - position, MAX_PAYLOAD_SIZE);\n",
              "      const chunk = new Uint8Array(fileData, position, length);\n",
              "      position += length;\n",
              "\n",
              "      const base64 = btoa(String.fromCharCode.apply(null, chunk));\n",
              "      yield {\n",
              "        response: {\n",
              "          action: 'append',\n",
              "          file: file.name,\n",
              "          data: base64,\n",
              "        },\n",
              "      };\n",
              "\n",
              "      let percentDone = fileData.byteLength === 0 ?\n",
              "          100 :\n",
              "          Math.round((position / fileData.byteLength) * 100);\n",
              "      percent.textContent = `${percentDone}% done`;\n",
              "\n",
              "    } while (position < fileData.byteLength);\n",
              "  }\n",
              "\n",
              "  // All done.\n",
              "  yield {\n",
              "    response: {\n",
              "      action: 'complete',\n",
              "    }\n",
              "  };\n",
              "}\n",
              "\n",
              "scope.google = scope.google || {};\n",
              "scope.google.colab = scope.google.colab || {};\n",
              "scope.google.colab._files = {\n",
              "  _uploadFiles,\n",
              "  _uploadFilesContinue,\n",
              "};\n",
              "})(self);\n",
              "</script> "
            ]
          },
          "metadata": {}
        },
        {
          "output_type": "stream",
          "name": "stdout",
          "text": [
            "Saving heart.csv to heart.csv\n"
          ]
        }
      ]
    },
    {
      "cell_type": "code",
      "execution_count": 4,
      "metadata": {
        "colab": {
          "base_uri": "https://localhost:8080/"
        },
        "id": "zID3q7pIzDI5",
        "outputId": "ff166b72-6dbf-4878-bd9e-06810a268f78"
      },
      "outputs": [
        {
          "output_type": "stream",
          "name": "stdout",
          "text": [
            "age         0\n",
            "sex         0\n",
            "cp          0\n",
            "trestbps    0\n",
            "chol        0\n",
            "fbs         0\n",
            "restecg     0\n",
            "thalach     0\n",
            "exang       0\n",
            "oldpeak     0\n",
            "slope       0\n",
            "ca          0\n",
            "thal        0\n",
            "target      0\n",
            "dtype: int64\n",
            "age           int64\n",
            "sex           int64\n",
            "cp            int64\n",
            "trestbps      int64\n",
            "chol          int64\n",
            "fbs           int64\n",
            "restecg       int64\n",
            "thalach       int64\n",
            "exang         int64\n",
            "oldpeak     float64\n",
            "slope         int64\n",
            "ca            int64\n",
            "thal          int64\n",
            "target        int64\n",
            "dtype: object\n"
          ]
        }
      ],
      "source": [
        "import pandas as pd\n",
        "df = pd.read_csv('heart.csv')\n",
        "\n",
        "# Check whether there are missing values\n",
        "print(df.isnull().sum())\n",
        "\n",
        "# Check whether theare are cateogrical features\n",
        "print(df.dtypes)"
      ]
    },
    {
      "cell_type": "markdown",
      "source": [
        "* There are no missing values.\n",
        "* There are no categorical features; they are all numerical."
      ],
      "metadata": {
        "id": "uq9SBR2j1rM6"
      }
    },
    {
      "cell_type": "code",
      "source": [
        "# Check whether this dataset is balanced or not\n",
        "# (use the bar plot to visualize the number of positive and negative samples)\n",
        "\n",
        "import matplotlib.pyplot as plt\n",
        "\n",
        "counts = df['target'].value_counts()\n",
        "\n",
        "plt.bar(counts.index, counts.values)\n",
        "plt.title('Patients Heart Disease Results')\n",
        "plt.xticks(counts.index, ['Negative', 'Positive'])\n",
        "plt.show()"
      ],
      "metadata": {
        "colab": {
          "base_uri": "https://localhost:8080/",
          "height": 452
        },
        "id": "TgtuyDS41yhy",
        "outputId": "6379e683-bd0f-4d36-faf9-f86248460b0f"
      },
      "execution_count": 5,
      "outputs": [
        {
          "output_type": "display_data",
          "data": {
            "text/plain": [
              "<Figure size 640x480 with 1 Axes>"
            ],
            "image/png": "[encoded data removed]"
          },
          "metadata": {}
        }
      ]
    },
    {
      "cell_type": "markdown",
      "source": [
        "The dataset is balanced."
      ],
      "metadata": {
        "id": "zhW3C2QP325J"
      }
    },
    {
      "cell_type": "markdown",
      "metadata": {
        "id": "QBIt4M7XzDI5"
      },
      "source": [
        "### 2.2 Split the data into two subsets and normalize the features of samples\n",
        "\n",
        "* Split the dataset into the train_val set and testing set.\n",
        "* Normalize features"
      ]
    },
    {
      "cell_type": "code",
      "execution_count": 6,
      "metadata": {
        "colab": {
          "base_uri": "https://localhost:8080/"
        },
        "id": "dUpfwntFzDI5",
        "outputId": "c67e52eb-d89f-4044-9b1b-22e0cc0885e4"
      },
      "outputs": [
        {
          "output_type": "stream",
          "name": "stdout",
          "text": [
            "train_val: 272, test: 31\n"
          ]
        }
      ],
      "source": [
        "# Split the dataset into the train_val set and testing set\n",
        "heart_data = df.drop('target', axis=1).values\n",
        "heart_targets = df['target'].values\n",
        "X_train_val, X_test, y_train_val, y_test = train_test_split(heart_data, heart_targets,\n",
        "                                                            test_size=0.10,\n",
        "                                                            random_state=0)\n",
        "\n",
        "print(\"train_val: {}, test: {}\".format(X_train_val.shape[0], X_test.shape[0]))\n",
        "\n",
        "# Normalize features\n",
        "normalizer = StandardScaler()\n",
        "X_train_val = normalizer.fit_transform(X_train_val)\n",
        "X_test = normalizer.transform(X_test)"
      ]
    },
    {
      "cell_type": "markdown",
      "metadata": {
        "id": "WWjl1-q1zDI5"
      },
      "source": [
        "### 2.3 Train the KNN model and select the hyperparameter with cross-validation\n",
        "\n",
        "\n",
        "* Use the 5-fold cross-validation to select the hyperparameter $K$.\n",
        "* Search $K$ from $\\{1, 2, 3, 4, 5\\}$\n"
      ]
    },
    {
      "cell_type": "code",
      "execution_count": 7,
      "metadata": {
        "colab": {
          "base_uri": "https://localhost:8080/"
        },
        "id": "VU6Z_kFAzDI5",
        "outputId": "10eb5272-6162-4ca9-9581-38ee064d0838"
      },
      "outputs": [
        {
          "output_type": "stream",
          "name": "stdout",
          "text": [
            "0.831043771043771\n",
            "{'n_neighbors': 5}\n"
          ]
        }
      ],
      "source": [
        "# Use the 5-fold cross-validation to select the hyperparameter 𝐾\n",
        "# 𝐾: {1, 2, 3, 4, 5}\n",
        "k_range = range(1, 6)\n",
        "param_grid = dict(n_neighbors = k_range)\n",
        "\n",
        "clf_knn =  KNeighborsClassifier(n_neighbors = 1)\n",
        "\n",
        "grid = GridSearchCV(clf_knn, param_grid, cv=5, scoring='accuracy')\n",
        "grid.fit(X_train_val, y_train_val)\n",
        "\n",
        "print(grid.best_score_)\n",
        "print(grid.best_params_)"
      ]
    },
    {
      "cell_type": "markdown",
      "metadata": {
        "id": "DfuVxsymzDI5"
      },
      "source": [
        "### 2.4 Evaluate the learned model\n",
        "\n",
        "* Report the prediction accuracy, recall, precision, and F1 score.\n",
        "\n",
        "* Note that you should implement the code for these metrics by yourself. Please do NOT use the built-in function in sklearn."
      ]
    },
    {
      "cell_type": "code",
      "execution_count": 9,
      "metadata": {
        "colab": {
          "base_uri": "https://localhost:8080/"
        },
        "id": "Ktij9f6-zDI5",
        "outputId": "5bbbd1f5-0d3a-4c0b-c405-4a8e602c72a1"
      },
      "outputs": [
        {
          "output_type": "stream",
          "name": "stdout",
          "text": [
            "true positive: 11 true negative: 15 false positive: 3 false negative: 2 | total: 31\n",
            "accuracy: 0.839, recall: 0.846, precision: 0.786, f1: 0.815\n"
          ]
        }
      ],
      "source": [
        "# Model evaluation\n",
        "clf_knn =  KNeighborsClassifier(n_neighbors=grid.best_params_['n_neighbors'])\n",
        "clf_knn.fit(X_train_val, y_train_val)\n",
        "\n",
        "# Evaluate model using testing set\n",
        "y_test_pred = clf_knn.predict(X_test)\n",
        "\n",
        "# Count results\n",
        "def counts(y_true, y_pred):\n",
        "    TP, FP, TN, FN = 0, 0, 0, 0\n",
        "    for i in range(len(y_true)):\n",
        "        if y_true[i] == y_pred[i]:\n",
        "            if y_true[i] == 1:\n",
        "                TP += 1\n",
        "            else:\n",
        "                TN += 1\n",
        "        else:\n",
        "            if y_true[i] == 1:\n",
        "                FP += 1\n",
        "            else:\n",
        "                FN += 1\n",
        "    print(\"true positive: {}, true negative: {}, false positive: {}, false negative: {} | total: {}\".format(TP, TN, FP, FN, (TP+TN+FP+FN)))\n",
        "    accuracy = (TP + TN) / (TP + FP + TN + FN)\n",
        "    recall = TP / (TP + FN)\n",
        "    precision = TP / (TP + FP)\n",
        "    f1_score = 2 * (precision * recall) / (precision + recall)\n",
        "    return accuracy, recall, precision, f1_score\n",
        "\n",
        "# Report the prediction accuracy, recall, precision, and F1 score\n",
        "accuracy, recall, precision, f1 = counts(y_test, y_test_pred)\n",
        "\n",
        "print(\"accuracy: {:.3f}, recall: {:.3f}, precision: {:.3f}, f1: {:.3f}\".format(accuracy, recall, precision, f1))"
      ]
    }
  ],
  "metadata": {
    "kernelspec": {
      "display_name": "Python 3",
      "language": "python",
      "name": "python3"
    },
    "language_info": {
      "codemirror_mode": {
        "name": "ipython",
        "version": 3
      },
      "file_extension": ".py",
      "mimetype": "text/x-python",
      "name": "python",
      "nbconvert_exporter": "python",
      "pygments_lexer": "ipython3",
      "version": "3.7.1"
    },
    "colab": {
      "provenance": []
    }
  },
  "nbformat": 4,
  "nbformat_minor": 0
}