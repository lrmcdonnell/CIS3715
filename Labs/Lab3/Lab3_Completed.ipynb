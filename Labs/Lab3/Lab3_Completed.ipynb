{
  "cells": [
    {
      "cell_type": "markdown",
      "metadata": {
        "id": "CKN8E0AJFhrG"
      },
      "source": [
        "# Lab 3: Linear Regression"
      ]
    },
    {
      "cell_type": "markdown",
      "metadata": {
        "id": "h-rcm49kFhrH"
      },
      "source": [
        "In this assignment, we will learn the Linear Regression model.\n",
        "\n",
        "First, please study the given example, which uses linear regression for the house price prediction task. In this example, you will learn how to preprocess data, how to train the model, and how to evaluate the model.\n",
        "\n",
        "Based on the given example and Lab Assignment 2, your task is to use the linear regression model to predict the medical cost for the dataset given in Lab Assignment 2."
      ]
    },
    {
      "cell_type": "markdown",
      "metadata": {
        "id": "mNWxkMOPFhrH"
      },
      "source": [
        "## 1. Example: Linear Regression for House Price Prediction"
      ]
    },
    {
      "cell_type": "markdown",
      "metadata": {
        "id": "-xkIodeNFhrH"
      },
      "source": [
        "In this example, we use the house price dataset. It gives the attributes and price of each house. The task is to build a linear regression model to make prediction for the price of the house."
      ]
    },
    {
      "cell_type": "markdown",
      "metadata": {
        "id": "8yRQiiy1FhrI"
      },
      "source": [
        "### 1.1 Preprocess the raw data\n",
        "\n",
        "When given a new dataset, we need to deal with the missing values and categorical features."
      ]
    },
    {
      "cell_type": "code",
      "execution_count": 1,
      "metadata": {
        "colab": {
          "base_uri": "https://localhost:8080/",
          "height": 127
        },
        "id": "g_MNd81LFkAc",
        "outputId": "827a9c6a-d036-43ee-a435-687bfe0f4186"
      },
      "outputs": [
        {
          "name": "stdout",
          "output_type": "stream",
          "text": [
            "Mounted at /content/drive\n"
          ]
        },
        {
          "data": {
            "text/html": [
              "\n",
              "     <input type=\"file\" id=\"files-253af9ec-56c9-414f-b8ea-7cefd7af1bcb\" name=\"files[]\" multiple disabled\n",
              "        style=\"border:none\" />\n",
              "     <output id=\"result-253af9ec-56c9-414f-b8ea-7cefd7af1bcb\">\n",
              "      Upload widget is only available when the cell has been executed in the\n",
              "      current browser session. Please rerun this cell to enable.\n",
              "      </output>\n",
              "      <script>// Copyright 2017 Google LLC\n",
              "//\n",
              "// Licensed under the Apache License, Version 2.0 (the \"License\");\n",
              "// you may not use this file except in compliance with the License.\n",
              "// You may obtain a copy of the License at\n",
              "//\n",
              "//      http://www.apache.org/licenses/LICENSE-2.0\n",
              "//\n",
              "// Unless required by applicable law or agreed to in writing, software\n",
              "// distributed under the License is distributed on an \"AS IS\" BASIS,\n",
              "// WITHOUT WARRANTIES OR CONDITIONS OF ANY KIND, either express or implied.\n",
              "// See the License for the specific language governing permissions and\n",
              "// limitations under the License.\n",
              "\n",
              "/**\n",
              " * @fileoverview Helpers for google.colab Python module.\n",
              " */\n",
              "(function(scope) {\n",
              "function span(text, styleAttributes = {}) {\n",
              "  const element = document.createElement('span');\n",
              "  element.textContent = text;\n",
              "  for (const key of Object.keys(styleAttributes)) {\n",
              "    element.style[key] = styleAttributes[key];\n",
              "  }\n",
              "  return element;\n",
              "}\n",
              "\n",
              "// Max number of bytes which will be uploaded at a time.\n",
              "const MAX_PAYLOAD_SIZE = 100 * 1024;\n",
              "\n",
              "function _uploadFiles(inputId, outputId) {\n",
              "  const steps = uploadFilesStep(inputId, outputId);\n",
              "  const outputElement = document.getElementById(outputId);\n",
              "  // Cache steps on the outputElement to make it available for the next call\n",
              "  // to uploadFilesContinue from Python.\n",
              "  outputElement.steps = steps;\n",
              "\n",
              "  return _uploadFilesContinue(outputId);\n",
              "}\n",
              "\n",
              "// This is roughly an async generator (not supported in the browser yet),\n",
              "// where there are multiple asynchronous steps and the Python side is going\n",
              "// to poll for completion of each step.\n",
              "// This uses a Promise to block the python side on completion of each step,\n",
              "// then passes the result of the previous step as the input to the next step.\n",
              "function _uploadFilesContinue(outputId) {\n",
              "  const outputElement = document.getElementById(outputId);\n",
              "  const steps = outputElement.steps;\n",
              "\n",
              "  const next = steps.next(outputElement.lastPromiseValue);\n",
              "  return Promise.resolve(next.value.promise).then((value) => {\n",
              "    // Cache the last promise value to make it available to the next\n",
              "    // step of the generator.\n",
              "    outputElement.lastPromiseValue = value;\n",
              "    return next.value.response;\n",
              "  });\n",
              "}\n",
              "\n",
              "/**\n",
              " * Generator function which is called between each async step of the upload\n",
              " * process.\n",
              " * @param {string} inputId Element ID of the input file picker element.\n",
              " * @param {string} outputId Element ID of the output display.\n",
              " * @return {!Iterable<!Object>} Iterable of next steps.\n",
              " */\n",
              "function* uploadFilesStep(inputId, outputId) {\n",
              "  const inputElement = document.getElementById(inputId);\n",
              "  inputElement.disabled = false;\n",
              "\n",
              "  const outputElement = document.getElementById(outputId);\n",
              "  outputElement.innerHTML = '';\n",
              "\n",
              "  const pickedPromise = new Promise((resolve) => {\n",
              "    inputElement.addEventListener('change', (e) => {\n",
              "      resolve(e.target.files);\n",
              "    });\n",
              "  });\n",
              "\n",
              "  const cancel = document.createElement('button');\n",
              "  inputElement.parentElement.appendChild(cancel);\n",
              "  cancel.textContent = 'Cancel upload';\n",
              "  const cancelPromise = new Promise((resolve) => {\n",
              "    cancel.onclick = () => {\n",
              "      resolve(null);\n",
              "    };\n",
              "  });\n",
              "\n",
              "  // Wait for the user to pick the files.\n",
              "  const files = yield {\n",
              "    promise: Promise.race([pickedPromise, cancelPromise]),\n",
              "    response: {\n",
              "      action: 'starting',\n",
              "    }\n",
              "  };\n",
              "\n",
              "  cancel.remove();\n",
              "\n",
              "  // Disable the input element since further picks are not allowed.\n",
              "  inputElement.disabled = true;\n",
              "\n",
              "  if (!files) {\n",
              "    return {\n",
              "      response: {\n",
              "        action: 'complete',\n",
              "      }\n",
              "    };\n",
              "  }\n",
              "\n",
              "  for (const file of files) {\n",
              "    const li = document.createElement('li');\n",
              "    li.append(span(file.name, {fontWeight: 'bold'}));\n",
              "    li.append(span(\n",
              "        `(${file.type || 'n/a'}) - ${file.size} bytes, ` +\n",
              "        `last modified: ${\n",
              "            file.lastModifiedDate ? file.lastModifiedDate.toLocaleDateString() :\n",
              "                                    'n/a'} - `));\n",
              "    const percent = span('0% done');\n",
              "    li.appendChild(percent);\n",
              "\n",
              "    outputElement.appendChild(li);\n",
              "\n",
              "    const fileDataPromise = new Promise((resolve) => {\n",
              "      const reader = new FileReader();\n",
              "      reader.onload = (e) => {\n",
              "        resolve(e.target.result);\n",
              "      };\n",
              "      reader.readAsArrayBuffer(file);\n",
              "    });\n",
              "    // Wait for the data to be ready.\n",
              "    let fileData = yield {\n",
              "      promise: fileDataPromise,\n",
              "      response: {\n",
              "        action: 'continue',\n",
              "      }\n",
              "    };\n",
              "\n",
              "    // Use a chunked sending to avoid message size limits. See b/62115660.\n",
              "    let position = 0;\n",
              "    do {\n",
              "      const length = Math.min(fileData.byteLength - position, MAX_PAYLOAD_SIZE);\n",
              "      const chunk = new Uint8Array(fileData, position, length);\n",
              "      position += length;\n",
              "\n",
              "      const base64 = btoa(String.fromCharCode.apply(null, chunk));\n",
              "      yield {\n",
              "        response: {\n",
              "          action: 'append',\n",
              "          file: file.name,\n",
              "          data: base64,\n",
              "        },\n",
              "      };\n",
              "\n",
              "      let percentDone = fileData.byteLength === 0 ?\n",
              "          100 :\n",
              "          Math.round((position / fileData.byteLength) * 100);\n",
              "      percent.textContent = `${percentDone}% done`;\n",
              "\n",
              "    } while (position < fileData.byteLength);\n",
              "  }\n",
              "\n",
              "  // All done.\n",
              "  yield {\n",
              "    response: {\n",
              "      action: 'complete',\n",
              "    }\n",
              "  };\n",
              "}\n",
              "\n",
              "scope.google = scope.google || {};\n",
              "scope.google.colab = scope.google.colab || {};\n",
              "scope.google.colab._files = {\n",
              "  _uploadFiles,\n",
              "  _uploadFilesContinue,\n",
              "};\n",
              "})(self);\n",
              "</script> "
            ],
            "text/plain": [
              "<IPython.core.display.HTML object>"
            ]
          },
          "metadata": {},
          "output_type": "display_data"
        },
        {
          "name": "stdout",
          "output_type": "stream",
          "text": [
            "Saving housing.csv to housing.csv\n",
            "Saving insurance.csv to insurance.csv\n"
          ]
        }
      ],
      "source": [
        "#import files\n",
        "from google.colab import drive\n",
        "drive.mount('/content/drive')\n",
        "\n",
        "from google.colab import files\n",
        "uploaded = files.upload()"
      ]
    },
    {
      "cell_type": "code",
      "execution_count": 2,
      "metadata": {
        "colab": {
          "base_uri": "https://localhost:8080/"
        },
        "id": "ImLEuhuTFhrI",
        "outputId": "37105faf-a47f-43a8-a14b-16005aa3ca8a"
      },
      "outputs": [
        {
          "name": "stdout",
          "output_type": "stream",
          "text": [
            "longitude             0\n",
            "latitude              0\n",
            "housing_median_age    0\n",
            "total_rooms           0\n",
            "total_bedrooms        0\n",
            "population            0\n",
            "households            0\n",
            "median_income         0\n",
            "median_house_value    0\n",
            "ocean_proximity       0\n",
            "dtype: int64\n",
            "<class 'pandas.core.frame.DataFrame'>\n",
            "RangeIndex: 20640 entries, 0 to 20639\n",
            "Data columns (total 10 columns):\n",
            " #   Column              Non-Null Count  Dtype  \n",
            "---  ------              --------------  -----  \n",
            " 0   longitude           20640 non-null  float64\n",
            " 1   latitude            20640 non-null  float64\n",
            " 2   housing_median_age  20640 non-null  int64  \n",
            " 3   total_rooms         20640 non-null  int64  \n",
            " 4   total_bedrooms      20640 non-null  float64\n",
            " 5   population          20640 non-null  int64  \n",
            " 6   households          20640 non-null  int64  \n",
            " 7   median_income       20640 non-null  float64\n",
            " 8   median_house_value  20640 non-null  int64  \n",
            " 9   ocean_proximity     20640 non-null  int64  \n",
            "dtypes: float64(4), int64(6)\n",
            "memory usage: 1.6 MB\n",
            "None\n"
          ]
        }
      ],
      "source": [
        "import pandas as pd\n",
        "import numpy as np\n",
        "from sklearn.preprocessing import LabelEncoder\n",
        "from sklearn.model_selection import train_test_split\n",
        "from sklearn.preprocessing import StandardScaler\n",
        "from sklearn.linear_model import LinearRegression, Ridge, Lasso\n",
        "from sklearn.metrics import mean_absolute_error,mean_squared_error\n",
        "import matplotlib.pyplot as plt\n",
        "\n",
        "\n",
        "df = pd.read_csv('housing.csv')\n",
        "\n",
        "# 0. fill in missing values\n",
        "mean_val = df['total_bedrooms'].mean()\n",
        "df['total_bedrooms'] = df['total_bedrooms'].fillna(mean_val)\n",
        "print(df.isnull().sum())\n",
        "\n",
        "# 1. convert categorical features to numerical values\n",
        "labelencoder = LabelEncoder()\n",
        "df['ocean_proximity'] = labelencoder.fit_transform(df['ocean_proximity'])\n",
        "print(df.info())"
      ]
    },
    {
      "cell_type": "markdown",
      "metadata": {
        "id": "gIwWyNLGFhrJ"
      },
      "source": [
        "### 1.2 Split the preprocessed dataset into training set and testing set\n",
        "\n",
        "For the supervised learning, we need to split the dataset into the training set and test set. The training set is used to learn model parameters and the testing set is used to evaluate the learned model.\n",
        "\n",
        "Note that the testing set is NOT allowed to be used in the training phase."
      ]
    },
    {
      "cell_type": "code",
      "execution_count": 3,
      "metadata": {
        "colab": {
          "base_uri": "https://localhost:8080/"
        },
        "id": "XAspwzfdFhrJ",
        "outputId": "81b6f2b1-08c2-409b-aa44-83abae2acac3"
      },
      "outputs": [
        {
          "name": "stdout",
          "output_type": "stream",
          "text": [
            "(16512, 9)\n",
            "(4128, 9)\n"
          ]
        }
      ],
      "source": [
        "# 2. split samples\n",
        "house_fea = df.drop('median_house_value', axis=1).values\n",
        "house_price = df['median_house_value'].values\n",
        "house_price = house_price / np.max(house_price)\n",
        "\n",
        "X_train,X_test,y_train,y_test = train_test_split(house_fea,\n",
        "                                                 house_price,\n",
        "                                                 test_size=0.2,\n",
        "                                                 random_state=42)\n",
        "print(X_train.shape)\n",
        "print(X_test.shape)\n",
        "\n",
        "\n",
        "# normalize features\n",
        "normalizer = StandardScaler()\n",
        "X_train = normalizer.fit_transform(X_train)\n",
        "X_test = normalizer.transform(X_test)"
      ]
    },
    {
      "cell_type": "markdown",
      "metadata": {
        "id": "_icwJOz4FhrJ"
      },
      "source": [
        "### 1.3 Train the linear regression model\n",
        "\n",
        "$\\min_{w}\\frac{1}{n}\\|y-X\\mathbf{w}\\|_2^2$\n",
        "\n",
        "\n",
        "\n",
        "Here, we use the training set to learn the model parameter $\\mathbf{w}=(w_0, w_1, w_2, \\cdots, w_d)$.\n",
        "\n",
        "Then, we compute MAE, MSE, and RMSE to see how well the learned model fit the training set."
      ]
    },
    {
      "cell_type": "code",
      "execution_count": 4,
      "metadata": {
        "colab": {
          "base_uri": "https://localhost:8080/"
        },
        "id": "2koG7fHhFhrJ",
        "outputId": "7b5f8676-3336-4e75-930e-c040ebb4b0fb"
      },
      "outputs": [
        {
          "name": "stdout",
          "output_type": "stream",
          "text": [
            "bias is 0.41438855869860675\n",
            "coefficients  is [-0.17170955 -0.18189176  0.02984855 -0.0353864   0.09753502 -0.08776816\n",
            "  0.03520256  0.15428789 -0.00090304]\n",
            "prediction for training set:\n",
            "MAE is: 0.10125365457873205\n",
            "MSE is: 0.0192437559440504\n",
            "RMSE is: 0.13872186541439818\n"
          ]
        }
      ],
      "source": [
        "#3. train the model\n",
        "lr = LinearRegression()\n",
        "\n",
        "lr.fit(X_train,y_train)\n",
        "\n",
        "print(\"bias is \"+str(lr.intercept_))\n",
        "print(\"coefficients  is \"+str(lr.coef_))\n",
        "\n",
        "y_train_pred = lr.predict(X_train)\n",
        "\n",
        "mae = mean_absolute_error(y_train_pred,y_train)\n",
        "mse = mean_squared_error(y_train_pred,y_train)\n",
        "rmse = np.sqrt(mse)\n",
        "\n",
        "print('prediction for training set:')\n",
        "print('MAE is: {}'.format(mae))\n",
        "print('MSE is: {}'.format(mse))\n",
        "print('RMSE is: {}'.format(rmse))\n"
      ]
    },
    {
      "cell_type": "markdown",
      "metadata": {
        "id": "rs7HV8ACFhrJ"
      },
      "source": [
        "### 1.4 Evaluate the linear regression model\n",
        "\n",
        "After obtaining the model parameter $\\mathbf{w}=(w_0, w_1, w_2, \\cdots, w_d)$, the linear regression model is determined. Then, we need to evaluate this model to see how well this model generaizes on the testing set."
      ]
    },
    {
      "cell_type": "code",
      "execution_count": 5,
      "metadata": {
        "colab": {
          "base_uri": "https://localhost:8080/",
          "height": 501
        },
        "id": "xoLichnJFhrJ",
        "outputId": "8ddd41f3-6829-4329-b444-25835d2374a2"
      },
      "outputs": [
        {
          "name": "stdout",
          "output_type": "stream",
          "text": [
            "prediction for testing set:\n",
            "MAE is: 0.10369354831097968\n",
            "MSE is: 0.020220019584503236\n",
            "RMSE is: 0.14219711524677017\n"
          ]
        },
        {
          "data": {
            "image/png": "[encoded data removed]",
            "text/plain": [
              "<Figure size 640x480 with 1 Axes>"
            ]
          },
          "metadata": {},
          "output_type": "display_data"
        }
      ],
      "source": [
        "#4. evaluate the model\n",
        "y_test_pred = lr.predict(X_test)\n",
        "\n",
        "mae = mean_absolute_error(y_test_pred,y_test)\n",
        "mse = mean_squared_error(y_test_pred,y_test)\n",
        "rmse = np.sqrt(mse)\n",
        "\n",
        "print('prediction for testing set:')\n",
        "print('MAE is: {}'.format(mae))\n",
        "print('MSE is: {}'.format(mse))\n",
        "print('RMSE is: {}'.format(rmse))\n",
        "\n",
        "\n",
        "labels = ['House1', 'House2', 'House3', 'House4', 'House5']\n",
        "x = np.arange(len(labels))  # the label locations\n",
        "width = 0.35  # the width of the bars\n",
        "\n",
        "fig, ax = plt.subplots()\n",
        "rects1 = ax.bar(x - width/2, y_test[0:5], width, label='ground truth')\n",
        "rects2 = ax.bar(x + width/2, y_test_pred[0:5], width, label='prediction')\n",
        "\n",
        "ax.set_ylabel('Price')\n",
        "ax.set_xticks(x)\n",
        "ax.set_xticklabels(labels)\n",
        "ax.legend()\n",
        "\n",
        "plt.show()\n"
      ]
    },
    {
      "cell_type": "markdown",
      "metadata": {
        "id": "kA40LsJhFhrK"
      },
      "source": [
        "## 2. Task: Linear Regression for Medical Cost Prediction\n",
        "\n",
        "Following the given example, build a linear regression model for [the insurance dataset](./insurance.csv) to predict the medical cost.  \n"
      ]
    },
    {
      "cell_type": "markdown",
      "metadata": {
        "id": "7nSJUUgcFhrK"
      },
      "source": [
        "### 2.1 Preprocess the raw data\n",
        "\n",
        "Based on your Lab Assignment 2, deal with the missing values and categorical features."
      ]
    },
    {
      "cell_type": "code",
      "execution_count": 11,
      "metadata": {
        "colab": {
          "base_uri": "https://localhost:8080/"
        },
        "id": "7kqy9e6FFhrK",
        "outputId": "189b0617-1599-424e-9065-7b1ee1a8af13"
      },
      "outputs": [
        {
          "name": "stdout",
          "output_type": "stream",
          "text": [
            "age           int64\n",
            "sex          object\n",
            "bmi         float64\n",
            "children      int64\n",
            "smoker       object\n",
            "region       object\n",
            "charges     float64\n",
            "dtype: object\n",
            "age         0\n",
            "sex         0\n",
            "bmi         0\n",
            "children    0\n",
            "smoker      0\n",
            "region      0\n",
            "charges     0\n",
            "dtype: int64\n"
          ]
        }
      ],
      "source": [
        "import pandas as pd\n",
        "import numpy as np\n",
        "from sklearn.preprocessing import LabelEncoder\n",
        "from sklearn.model_selection import train_test_split\n",
        "from sklearn.preprocessing import StandardScaler\n",
        "from sklearn.linear_model import LinearRegression, Ridge, Lasso\n",
        "from sklearn.metrics import mean_absolute_error,mean_squared_error\n",
        "import matplotlib.pyplot as plt\n",
        "\n",
        "#read data\n",
        "df = pd.read_csv('insurance.csv')\n",
        "\n",
        "#check data types & missing values\n",
        "print(df.dtypes)\n",
        "print(df.isnull().sum())\n",
        "\n",
        "## there are no missing values ##"
      ]
    },
    {
      "cell_type": "code",
      "execution_count": 12,
      "metadata": {
        "colab": {
          "base_uri": "https://localhost:8080/"
        },
        "id": "pYAmE6VFHDz_",
        "outputId": "852f1cc7-4aa0-4daf-c1f2-a9d962253df9"
      },
      "outputs": [
        {
          "name": "stdout",
          "output_type": "stream",
          "text": [
            "<class 'pandas.core.frame.DataFrame'>\n",
            "RangeIndex: 1338 entries, 0 to 1337\n",
            "Data columns (total 7 columns):\n",
            " #   Column    Non-Null Count  Dtype  \n",
            "---  ------    --------------  -----  \n",
            " 0   age       1338 non-null   int64  \n",
            " 1   sex       1338 non-null   int64  \n",
            " 2   bmi       1338 non-null   float64\n",
            " 3   children  1338 non-null   int64  \n",
            " 4   smoker    1338 non-null   int64  \n",
            " 5   region    1338 non-null   int64  \n",
            " 6   charges   1338 non-null   float64\n",
            "dtypes: float64(2), int64(5)\n",
            "memory usage: 73.3 KB\n",
            "None\n"
          ]
        }
      ],
      "source": [
        "#encode categorical data\n",
        "labelencoder = LabelEncoder()\n",
        "df['sex'] = labelencoder.fit_transform(df['sex'])\n",
        "df['smoker'] = labelencoder.fit_transform(df['smoker'])\n",
        "df['region'] = labelencoder.fit_transform(df['region'])\n",
        "\n",
        "print(df.info())"
      ]
    },
    {
      "cell_type": "markdown",
      "metadata": {
        "id": "EE-g-AiQFhrK"
      },
      "source": [
        "### 2.2 Split the preprocessed dataset into training set and testing set\n",
        "\n",
        "Use 80% of samples as the training set and 20% of samples as the testing set"
      ]
    },
    {
      "cell_type": "code",
      "execution_count": 13,
      "metadata": {
        "colab": {
          "base_uri": "https://localhost:8080/"
        },
        "id": "XwBYbd-1FhrK",
        "outputId": "b753c670-fb5f-4c62-89e0-998f0be0a038"
      },
      "outputs": [
        {
          "name": "stdout",
          "output_type": "stream",
          "text": [
            "(1070, 6)\n",
            "(268, 6)\n"
          ]
        }
      ],
      "source": [
        "#create datasets\n",
        "insurance_fea = df.drop('charges', axis=1).values\n",
        "insurance_price = df['charges'].values\n",
        "insurance_price = insurance_price / np.max(insurance_price)\n",
        "\n",
        "X_train,X_test,y_train,y_test = train_test_split(insurance_fea,\n",
        "                                                 insurance_price,\n",
        "                                                 test_size=0.2,\n",
        "                                                 random_state=42)\n",
        "print(X_train.shape)\n",
        "print(X_test.shape)\n",
        "\n",
        "#normalize features using min-max scaling\n",
        "normalizer = StandardScaler()\n",
        "X_train = normalizer.fit_transform(X_train)\n",
        "X_test = normalizer.transform(X_test)"
      ]
    },
    {
      "cell_type": "markdown",
      "metadata": {
        "id": "Y_50aR76FhrK"
      },
      "source": [
        "### 2.3 Train the linear regression model\n",
        "\n",
        "Use the Linear regression model to do prediction\n",
        "\n",
        "$\\min_{w}\\frac{1}{n}\\|y-X\\mathbf{w}\\|_2^2$\n",
        "\n",
        "Please output the learned model parameter $\\mathbf{w}$ and see how the learned model fit the training set."
      ]
    },
    {
      "cell_type": "code",
      "execution_count": 14,
      "metadata": {
        "colab": {
          "base_uri": "https://localhost:8080/"
        },
        "id": "aP2IdhuHFhrK",
        "outputId": "e402cdae-a705-4a46-b984-3be8df1d63c5"
      },
      "outputs": [
        {
          "name": "stdout",
          "output_type": "stream",
          "text": [
            "bias is 0.20928336460705027\n",
            "coefficients  is [ 5.67051024e-02 -1.47293258e-04  3.18064131e-02  8.10191467e-03\n",
            "  1.49867951e-01 -4.74182139e-03]\n",
            "Prediction for training set:\n",
            "MAE is: 0.0659986479709151\n",
            "MSE is: 0.00916737434945697\n",
            "RMSE is: 0.09574640645714579\n"
          ]
        }
      ],
      "source": [
        "#train the linear regression model\n",
        "lr = LinearRegression()\n",
        "\n",
        "lr.fit(X_train, y_train)\n",
        "\n",
        "print(\"bias is \" + str(lr.intercept_))\n",
        "print(\"coefficients  is \" + str(lr.coef_))\n",
        "\n",
        "y_train_pred = lr.predict(X_train)\n",
        "\n",
        "mae = mean_absolute_error(y_train_pred, y_train)\n",
        "mse = mean_squared_error(y_train_pred, y_train)\n",
        "rmse = np.sqrt(mse)\n",
        "\n",
        "print('Prediction for training set:')\n",
        "print('MAE is: {}'.format(mae))\n",
        "print('MSE is: {}'.format(mse))\n",
        "print('RMSE is: {}'.format(rmse))"
      ]
    },
    {
      "cell_type": "markdown",
      "metadata": {
        "id": "nXk2e6yhFhrK"
      },
      "source": [
        "### 2.4 Evaluate the linear regression model\n",
        "\n",
        "\n",
        "Evaluate the learned model to see how well this model generaizes on the testing set."
      ]
    },
    {
      "cell_type": "code",
      "execution_count": 15,
      "metadata": {
        "colab": {
          "base_uri": "https://localhost:8080/",
          "height": 502
        },
        "id": "ilLs1GW8FhrK",
        "outputId": "484a2b0b-5e81-474a-89fc-c4d1b9e59f69"
      },
      "outputs": [
        {
          "name": "stdout",
          "output_type": "stream",
          "text": [
            "prediction for testing set:\n",
            "MAE is: 0.06564969107169769\n",
            "MSE is: 0.008270951713078177\n",
            "RMSE is: 0.09094477287386107\n"
          ]
        },
        {
          "data": {
            "image/png": "[encoded data removed]",
            "text/plain": [
              "<Figure size 640x480 with 1 Axes>"
            ]
          },
          "metadata": {},
          "output_type": "display_data"
        }
      ],
      "source": [
        "#evaluate the linear regression model\n",
        "y_test_pred = lr.predict(X_test)\n",
        "\n",
        "mae = mean_absolute_error(y_test_pred, y_test)\n",
        "mse = mean_squared_error(y_test_pred, y_test)\n",
        "rmse = np.sqrt(mse)\n",
        "\n",
        "print('prediction for testing set:')\n",
        "print('MAE is: {}'.format(mae))\n",
        "print('MSE is: {}'.format(mse))\n",
        "print('RMSE is: {}'.format(rmse))\n",
        "\n",
        "# Plotting the model\n",
        "labels = ['Charge1', 'Charge2', 'Charge3', 'Charge4', 'Charge5']\n",
        "x = np.arange(len(labels))  # label locations\n",
        "width = 0.35  # width of bars\n",
        "\n",
        "fig, ax = plt.subplots()\n",
        "rects1 = ax.bar(x - width/2, y_test[0:5], width, label='ground truth')\n",
        "rects2 = ax.bar(x + width/2, y_test_pred[0:5], width, label='prediction')\n",
        "\n",
        "ax.set_ylabel('Insurance')\n",
        "ax.set_xticks(x)\n",
        "ax.set_xticklabels(labels)\n",
        "ax.legend()\n",
        "\n",
        "plt.show()"
      ]
    },
    {
      "cell_type": "markdown",
      "metadata": {
        "id": "iHz0x4mWFhrK"
      },
      "source": [
        "### 2.5 Use the ridge regression model to do prediction\n",
        "\n",
        "$\\min_{w}\\frac{1}{n}\\|y-Xw\\|_2^2 + \\lambda \\|w\\|_2^2$\n",
        "\n",
        "* 1.5.1 Compare its performance on the testing set with that of the standard linear regression model $\\min_{w}\\frac{1}{n}\\|y-Xw\\|_2^2$\n",
        "\n",
        "* 1.5.2 Use different $\\lambda$ to see how it affects the performance of the ridge regression  model on the testing set\n"
      ]
    },
    {
      "cell_type": "code",
      "execution_count": 17,
      "metadata": {
        "colab": {
          "base_uri": "https://localhost:8080/"
        },
        "id": "mVsj2jonFhrK",
        "outputId": "550a765f-b5a5-4cf2-c7f1-31086de3db04"
      },
      "outputs": [
        {
          "name": "stdout",
          "output_type": "stream",
          "text": [
            "\n",
            "\tRidge regression model on testing set with λ = 0.01 \n",
            "\n",
            "bias is 0.20623106394117466\n",
            "coefficients  is [ 0.05579583 -0.00410557  0.03046294  0.01473795  0.15595143 -0.01319439]\n",
            "prediction for testing set:\n",
            "MAE is: 0.06254455225346464\n",
            "MSE is: 0.008115268679326255\n",
            "RMSE is: 0.09008478605916903\n",
            "\n",
            "\tRidge regression model on testing set with λ = 0.1 \n",
            "\n",
            "bias is 0.20623034165711565\n",
            "coefficients  is [ 0.05578254 -0.00409918  0.03045483  0.01473067  0.1558987  -0.01318723]\n",
            "prediction for testing set:\n",
            "MAE is: 0.06255084686911873\n",
            "MSE is: 0.00811527255270067\n",
            "RMSE is: 0.09008480755766018\n",
            "\n",
            "\tRidge regression model on testing set with λ = 0.5 \n",
            "\n",
            "bias is 0.20622713436075507\n",
            "coefficients  is [ 0.05572353 -0.00407088  0.03041887  0.01469838  0.15566479 -0.01315549]\n",
            "prediction for testing set:\n",
            "MAE is: 0.06257876598958831\n",
            "MSE is: 0.008115366162213257\n",
            "RMSE is: 0.09008532711942194\n",
            "\n",
            "\tRidge regression model on testing set with λ = 1 \n",
            "\n",
            "bias is 0.206223131807873\n",
            "coefficients  is [ 0.0556499  -0.00403572  0.03037407  0.01465821  0.1553734  -0.01311601]\n",
            "prediction for testing set:\n",
            "MAE is: 0.06261353465392551\n",
            "MSE is: 0.008115657280250668\n",
            "RMSE is: 0.09008694289546443\n",
            "\n",
            "\tRidge regression model on testing set with λ = 2 \n",
            "\n",
            "bias is 0.20621514867215437\n",
            "coefficients  is [ 0.05550308 -0.00396611  0.03028491  0.0145785   0.15479396 -0.01303768]\n",
            "prediction for testing set:\n",
            "MAE is: 0.06268595452519546\n",
            "MSE is: 0.008116811714502799\n",
            "RMSE is: 0.0900933500015556\n",
            "\n",
            "\tRidge regression model on testing set with λ = 3 \n",
            "\n",
            "bias is 0.20620719495933007\n",
            "coefficients  is [ 0.05535686 -0.00389744  0.03019637  0.01449961  0.15421892 -0.0129602 ]\n",
            "prediction for testing set:\n",
            "MAE is: 0.06276010677629276\n",
            "MSE is: 0.008118715006104862\n",
            "RMSE is: 0.090103912268585\n",
            "\n",
            "\tRidge regression model on testing set with λ = 10 \n",
            "\n",
            "bias is 0.20615235353958958\n",
            "coefficients  is [ 0.05434987 -0.00344166  0.0295931   0.01396938  0.15031269 -0.01244027]\n",
            "prediction for testing set:\n",
            "MAE is: 0.06332398558618794\n",
            "MSE is: 0.008151661082972559\n",
            "RMSE is: 0.09028654984532612\n"
          ]
        }
      ],
      "source": [
        "#ridge regression model to make predictions\n",
        "#use different λ values to determine the performance\n",
        "\n",
        "#lambda values\n",
        "list_lambda = [0.01, 0.1, 0.5, 1, 2, 3, 10]\n",
        "\n",
        "for i in range(0, len(list_lambda)):\n",
        "    print(\"\\n\\tRidge regression model on testing set with λ =\", list_lambda[i], \"\\n\")\n",
        "    lr = Ridge(alpha=list_lambda[i])\n",
        "    lr.fit(X_test, y_test)\n",
        "\n",
        "    print(\"bias is \" + str(lr.intercept_))\n",
        "    print(\"coefficients  is \" + str(lr.coef_))\n",
        "\n",
        "    y_test_pred = lr.predict(X_test)\n",
        "\n",
        "    mae = mean_absolute_error(y_test_pred, y_test)\n",
        "    mse = mean_squared_error(y_test_pred, y_test)\n",
        "    rmse = np.sqrt(mse)\n",
        "\n",
        "    print('prediction for testing set:')\n",
        "    print('MAE is: {}'.format(mae))\n",
        "    print('MSE is: {}'.format(mse))\n",
        "    print('RMSE is: {}'.format(rmse))"
      ]
    },
    {
      "cell_type": "markdown",
      "metadata": {
        "id": "CJ2rqz1ASh-D"
      },
      "source": [
        "Ridge regression:\n",
        "\n",
        "* In general, as $\\lambda$ increases, the MAE, MSE, and RMSE increases, i.e., the error increases\n",
        "* So, as $\\lambda$ increases, the accuracy of predictions decreases\n",
        "* The ridge model seems to predict better than the linear regression model for this dataset in terms of absolute error."
      ]
    }
  ],
  "metadata": {
    "colab": {
      "provenance": []
    },
    "kernelspec": {
      "display_name": "Python 3",
      "language": "python",
      "name": "python3"
    },
    "language_info": {
      "codemirror_mode": {
        "name": "ipython",
        "version": 3
      },
      "file_extension": ".py",
      "mimetype": "text/x-python",
      "name": "python",
      "nbconvert_exporter": "python",
      "pygments_lexer": "ipython3",
      "version": "3.7.1"
    }
  },
  "nbformat": 4,
  "nbformat_minor": 0
}
