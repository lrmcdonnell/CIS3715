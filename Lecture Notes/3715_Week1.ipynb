{
 "cells": [
  {
   "cell_type": "code",
   "execution_count": null,
   "metadata": {},
   "outputs": [
    {
     "ename": "",
     "evalue": ""
    }
   ],
   "source": [
    "#NumPy\n",
    "import numpy as np\n",
    "#Scikit-learn (sklearn)\n",
    "#PyTorch\n",
    "#TensorFlow\n",
    "#Pandas\n",
    "import pandas as pd\n",
    "#Matplotlib\n",
    "import matplotlib.pyplot as plt\n"
   ]
  },
  {
   "cell_type": "markdown",
   "metadata": {},
   "source": [
    "NumPy"
   ]
  },
  {
   "cell_type": "code",
   "execution_count": null,
   "metadata": {},
   "outputs": [],
   "source": [
    "#1D array\n",
    "arr = np.array([1,2,3,4,5])\n",
    "\n",
    "#2D array\n",
    "arr = np.array([[1,2,3], [4,5,6]])\n",
    "\n",
    "#inner product\n",
    "#a = [a1, a2, a3]\n",
    "#b = [b1, b2, b3]\n",
    "#inner = a1b1 + a2b2 + a3b3\n",
    "#np.inner(a,b)"
   ]
  },
  {
   "cell_type": "markdown",
   "metadata": {},
   "source": [
    "Pandas"
   ]
  },
  {
   "cell_type": "code",
   "execution_count": null,
   "metadata": {},
   "outputs": [],
   "source": [
    "df = pd.read_csv('data.csv')\n",
    "\n",
    "data = {\n",
    "    \"calories\": [420, 360, 390],\n",
    "    \"duration\": [50, 40, 45]\n",
    "}\n",
    "df = pd.DataFrame(data)\n",
    "\n",
    "print(df)\n",
    "print(type(df))"
   ]
  },
  {
   "cell_type": "code",
   "execution_count": null,
   "metadata": {},
   "outputs": [],
   "source": [
    "print(\"--First Row--\")\n",
    "print(df.iloc[0])\n",
    "\n",
    "print(\"--Last Row--\")\n",
    "print(df.iloc[-1])\n",
    "\n",
    "print(df.iloc[1, [2,3]]) #row 1, col 2,3\n",
    "print(df.iloc[[1,2], 3]) #row 1,2 col 3\n",
    "#df.iloc[[rows], [cols]]"
   ]
  },
  {
   "cell_type": "code",
   "execution_count": null,
   "metadata": {},
   "outputs": [],
   "source": [
    "print(df.to_numpy())"
   ]
  },
  {
   "cell_type": "markdown",
   "metadata": {},
   "source": [
    "Matplotlib"
   ]
  },
  {
   "cell_type": "code",
   "execution_count": null,
   "metadata": {},
   "outputs": [],
   "source": [
    "#data\n",
    "x = np.array([1,2,3])\n",
    "y = np.array([4,5,6])\n",
    "\n",
    "#scatter plot\n",
    "plt.scatter(x,y)\n",
    "plt.show()\n",
    "\n",
    "#histogram\n",
    "x = np.random.normal(170, 10, 20)\n",
    "plt.hist(x)\n",
    "plt.show()"
   ]
  }
 ],
 "metadata": {
  "kernelspec": {
   "display_name": "Python 3",
   "language": "python",
   "name": "python3"
  },
  "language_info": {
   "name": "python",
   "version": "3.11.1"
  }
 },
 "nbformat": 4,
 "nbformat_minor": 2
}
