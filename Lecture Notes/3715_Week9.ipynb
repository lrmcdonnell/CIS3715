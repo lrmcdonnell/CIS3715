{
  "nbformat": 4,
  "nbformat_minor": 0,
  "metadata": {
    "colab": {
      "provenance": []
    },
    "kernelspec": {
      "name": "python3",
      "display_name": "Python 3"
    },
    "language_info": {
      "name": "python"
    }
  },
  "cells": [
    {
      "cell_type": "markdown",
      "source": [
        "### **Dimensionality Reduction**\n",
        "\n",
        "Why?\n",
        "- visualization\n",
        "- curse of dimensionality: pairwise distance converges as dimension increases\n",
        "- computational cost\n",
        "- noise reduction\n",
        "\n",
        "How?\n",
        "- eliminate some features -> lose information\n",
        "- want to preserve information when reducing dimensionality\n",
        "- Find a new coordinate system to reduce the dimensionality of the samples"
      ],
      "metadata": {
        "id": "stySN_4e88jW"
      }
    },
    {
      "cell_type": "markdown",
      "source": [
        "###**Principal Components Analysis (PCA)**\n",
        "\n",
        "- PCA is a dimensionality reduction method\n",
        "  - A linear transformation\n",
        "  - Find a new coordinate system for the dataset\n",
        "  - Only use a small part of coordinates to represent data points\n",
        "  - preserve as much of the data's variance as possible\n",
        "\n",
        "- Formally, given a dataset with $n$ samples {$x_1,x_2,...,x_n$} | $x_i \\in \\mathbb{R}^d$\n",
        "- Find a linear transformation $W^{dxk}$ where $k < d$\n",
        "- $d$ = number of features in the original data\n",
        "- $k$ = number of new features\n",
        "- preserve the variance as much as possible"
      ],
      "metadata": {
        "id": "PzgxX9Q0BPqi"
      }
    },
    {
      "cell_type": "markdown",
      "source": [
        "**First Princial Component**\n",
        "- subtract the mean\n",
        "\n",
        "  $X' = [x_1', x_2', ..., x_n']$   \n",
        "\n",
        "  $x_i' = x_i - \\bar{x}$\n",
        "\n",
        "- apply the linear transformation\n",
        "  - get data points in the new coordinate system\n",
        "  \n",
        "  $[w^Tx_1', w^Tx_2', ..., w^Tx_n']$\n",
        "\n",
        "- compute the variance in the new coordinate system\n",
        "\n",
        "  $\\frac{1}{n}\\sum(w^Tx_1')^2 $\n",
        "\n",
        "\n",
        "Loss/Objective function:\n",
        "- maximize the variance in the new coordinate system\n",
        "\n",
        "  $max_{||w||_2=1}\\frac{1}{n}\\sum(w^Tx_1')^2 $\n",
        "\n",
        "- optimizing this problem can find the new coordinate system"
      ],
      "metadata": {
        "id": "dzy4sZ_oCwwn"
      }
    },
    {
      "cell_type": "markdown",
      "source": [
        "**Second principal component**\n",
        "\n",
        "- $max_{||W||_2=1}, \\frac{1}{n}\\sum(w^Tx_1')^2 $\n",
        "\n",
        "- $w$ is orthogonal to $w_1$\n",
        "\n",
        "\n",
        "**Principal components analysis (find all components at once)**\n",
        "\n",
        "$w^TX'X^T$$'w$\n",
        "\n",
        "Objective function\n",
        "\n",
        "$max_{W^TW = I} W^TX'X^T$$'W$\n",
        "\n",
        "How to optimize this value?\n",
        "\n",
        "- Eigen-decomposition for the covariance matrix\n",
        "\n",
        "- the solution is the largest $k$ eigenvectors\n",
        "\n"
      ],
      "metadata": {
        "id": "hbS7EI_PFOu7"
      }
    },
    {
      "cell_type": "markdown",
      "source": [
        "**Steps**\n",
        "\n",
        "1. Mean subtraction\n",
        "\n",
        "  $X' = X - \\frac{1}{n}X11^T$\n",
        "  \n",
        "  $X'_{dxn}$\n",
        "2. Compute covariance matrix\n",
        "  \n",
        "  $A = XX^T$\n",
        "  \n",
        "  $A_{dxd}$\n",
        "\n",
        "3. Eigen-decomposition\n",
        "4. Keep the largest k eigenvectors\n",
        "$W = [u_1, u_2, ..., u_k]$\n",
        "\n",
        "  $W_{dxk}$"
      ],
      "metadata": {
        "id": "j8xDa7DjI_ns"
      }
    },
    {
      "cell_type": "markdown",
      "source": [
        "### **Recommender Systems**\n",
        "\n",
        "1. **Content-based filtering**: recommendations based on item description/features\n",
        "\n",
        "2. **Collaborative filtering**: look at the ratings of like-minded users to provide recommendations\n",
        "  \n",
        "  Assumption: similar feedback implies similar taste between users\n",
        "\n"
      ],
      "metadata": {
        "id": "ifUAZo7uN_Wv"
      }
    },
    {
      "cell_type": "markdown",
      "source": [
        "###Memory-based Collaborative Filtering\n",
        "\n",
        "- user-based & item-based\n",
        "###**User-CF**\n",
        "use the average ratings of neighbors to predict whether the target user will like the product\n",
        "- Pearson correlation:\n",
        "\n",
        "  $a,b$ = users\n",
        "\n",
        "  $r_{a,p}$ = rating of user $a$ for item $p$\n",
        "\n",
        "  $P$ = set of items, rated by both $a$ and $b$\n",
        "\n",
        "  $sim(a,b) = \\frac{\\sum(r_{a,p}-\\bar{r}_{a})(r_{b,p}-\\bar{r}_b)}{\\sqrt{\\sum(r_{a,p}-\\bar{r}_{a})^2} \\sqrt{\\sum{(r_{b,p}-\\bar{r}_b)^2}}}$\n",
        "\n",
        "  - Possible similarity values between -1 and 1\n",
        "\n",
        "  ex:\n",
        "\n",
        "  $r_a = [5, 4, 1, 2] $ ;  $ r_b = [5, 3, 1, 1]$\n",
        "\n",
        "  $\\bar{r}_a = \\frac{5+4+1+2}{4} = 3$ ;\n",
        "  $\\bar{r}_b = \\frac{5+3+1+1}{4} = 2.5$\n",
        "\n",
        "  $r_a - \\bar{r}_a = [2,1,-2,-1]$ ; $r_b - \\bar{r}_b = [2.5, 0.5, -1.5, -1.5]$\n",
        "\n",
        "\n",
        "  Predictions:\n",
        "  \n",
        "- use similarity threshold or fixed number of neighbors\n",
        "$pred(a,p) = \\bar{r}_a + \\frac{\\sum{sim(a,b)*(r_{b,p}-\\bar{r}_b)}}{\\sum{sim(a,b)}}$\n",
        "\n",
        "\n",
        "\n",
        "###**Item-CF**\n",
        "- use the similarity between items (not users) to make predictions\n",
        "similarity:\n",
        "\n",
        "  $sim(\\vec{a},\\vec{b}) = \\frac{\\vec{a} · \\vec{b}}{|\\vec{a}|*|\\vec{b}|}$\n",
        "\n",
        "  prediction:\n",
        "\n",
        "  $pred(u,p) = \\frac{\\sum{sim(i,p)*r_{u,i}}}{\\sum{sim(i,p)}}$"
      ],
      "metadata": {
        "id": "FWgrnU5hS__X"
      }
    },
    {
      "cell_type": "markdown",
      "source": [
        "###Evaluation\n",
        "1. MAE and RMSE (regression task)\n",
        "\n",
        "2. Precision and Recall\n",
        "   \n",
        "   Precision: a measure of exactness, fraction of relevant items retrieved out of all items retrieved\n",
        "\n",
        "  $precision = \\frac{TP}{TP+FP} = \\frac{good recommendations}{all recommendations}$\n",
        "\n",
        "  Recall: a measure of completeness, fraction of relevant items retrieved out of all relevant items\n",
        "\n",
        "   $recall = \\frac{TP}{TP+FN} = \\frac{good recommendations}{all good movies}$"
      ],
      "metadata": {
        "id": "XfM8oIhgaOjq"
      }
    }
  ]
}