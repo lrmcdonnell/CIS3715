{
  "nbformat": 4,
  "nbformat_minor": 0,
  "metadata": {
    "colab": {
      "provenance": []
    },
    "kernelspec": {
      "name": "python3",
      "display_name": "Python 3"
    },
    "language_info": {
      "name": "python"
    }
  },
  "cells": [
    {
      "cell_type": "code",
      "execution_count": null,
      "metadata": {
        "id": "39tBe9mHu5ZU"
      },
      "outputs": [],
      "source": [
        "import numpy as np"
      ]
    },
    {
      "cell_type": "code",
      "source": [
        "a = np.array(42)\n",
        "b = np.array([1,2,3])\n",
        "c = np.array([[1,2,3], [4,5,6]])\n",
        "d = np.array([[[1,2,3], [4,5,6]], [[1,2,3], [4,5,6]]])\n",
        "\n",
        "print(a.ndim)\n",
        "print(b.ndim)\n",
        "print(c.ndim)\n",
        "print(d.ndim)"
      ],
      "metadata": {
        "colab": {
          "base_uri": "https://localhost:8080/"
        },
        "id": "7S_i7TNbvYZK",
        "outputId": "95e4eeeb-f913-4152-dd89-62d9bef66b19"
      },
      "execution_count": null,
      "outputs": [
        {
          "output_type": "stream",
          "name": "stdout",
          "text": [
            "0\n",
            "1\n",
            "2\n",
            "3\n"
          ]
        }
      ]
    },
    {
      "cell_type": "code",
      "source": [
        "arr = np.array([1,2,3,4])\n",
        "\n",
        "print(arr[0])\n",
        "print(arr[-1])\n",
        "print(arr[0:2])"
      ],
      "metadata": {
        "colab": {
          "base_uri": "https://localhost:8080/"
        },
        "id": "QKvBGZSuv9G6",
        "outputId": "02fced40-7c3b-4f99-c9e3-6f50e865488c"
      },
      "execution_count": null,
      "outputs": [
        {
          "output_type": "stream",
          "name": "stdout",
          "text": [
            "1\n",
            "4\n",
            "[1 2]\n"
          ]
        }
      ]
    },
    {
      "cell_type": "code",
      "source": [
        "arr = np.array([[1,2,3], [6,7,8]])\n",
        "print(\"1st row: \", arr[0, :])\n",
        "print(\"1st col: \", arr[:, 0])\n",
        "print(\"second element in first row: \", arr[0, 1])\n",
        "\n",
        "#arr[rows, cols]\n",
        "\n",
        "#mxn matrix: m rows, n columns"
      ],
      "metadata": {
        "colab": {
          "base_uri": "https://localhost:8080/"
        },
        "id": "vOU3vmBQwQj9",
        "outputId": "9244e8ee-34ea-45ab-8e35-10800bb1b1c7"
      },
      "execution_count": null,
      "outputs": [
        {
          "output_type": "stream",
          "name": "stdout",
          "text": [
            "1st row:  [1 2 3]\n",
            "1st col:  [1 6]\n",
            "second element in first row:  2\n"
          ]
        }
      ]
    },
    {
      "cell_type": "code",
      "source": [
        "arr = np.array([1,2,3,4,5,6,7])\n",
        "\n",
        "print(arr[1:5])\n",
        "print(arr[1:])\n",
        "print(arr[:5])\n",
        "print(arr[1:-2])\n",
        "print(arr[1:5:2]) #step size 2"
      ],
      "metadata": {
        "colab": {
          "base_uri": "https://localhost:8080/"
        },
        "id": "__gC0S2LxSea",
        "outputId": "d5153bef-d7cd-4ebd-acfe-5db9092da453"
      },
      "execution_count": null,
      "outputs": [
        {
          "output_type": "stream",
          "name": "stdout",
          "text": [
            "[2 3 4 5]\n",
            "[2 3 4 5 6 7]\n",
            "[1 2 3 4 5]\n",
            "[2 3 4 5]\n",
            "[2 4]\n"
          ]
        }
      ]
    },
    {
      "cell_type": "code",
      "source": [
        "arr1 = np.array([[1,2], [3,4]])\n",
        "arr2 = np.array([[5,6], [7,8]])\n",
        "\n",
        "new_arr = np.concatenate((arr1,arr2), axis = 1) #concatenates in column dimension\n",
        "print(new_arr)\n",
        "\n",
        "new_arr = np.concatenate((arr1,arr2), axis = 0) #concatenates in row dimension\n",
        "print(new_arr)\n"
      ],
      "metadata": {
        "colab": {
          "base_uri": "https://localhost:8080/"
        },
        "id": "Zot_J5fByhT4",
        "outputId": "56bc7d63-4fa9-447d-aaf6-903744f7edda"
      },
      "execution_count": null,
      "outputs": [
        {
          "output_type": "stream",
          "name": "stdout",
          "text": [
            "[[1 2 5 6]\n",
            " [3 4 7 8]]\n",
            "[[1 2]\n",
            " [3 4]\n",
            " [5 6]\n",
            " [7 8]]\n"
          ]
        }
      ]
    },
    {
      "cell_type": "markdown",
      "source": [
        "minw ||y - Xw||^2 = minw ||y - y pred||^2\n",
        "\n",
        "X is the feature matrix - includes features of sample\n",
        "w is the unknown value (model weight vector)\n",
        "y is the known value\n",
        "\n",
        "Xw = y pred"
      ],
      "metadata": {
        "id": "OZcz958H0QyF"
      }
    },
    {
      "cell_type": "markdown",
      "source": [
        "default vector is a column vector"
      ],
      "metadata": {
        "id": "ojif6W0Z1_5Z"
      }
    },
    {
      "cell_type": "code",
      "source": [
        "house1 = np.array([3,1,1180,5650,1])\n",
        "house2 = np.array([3,2,1680,8080,1])\n",
        "\n",
        "print(\"house 1: {}\".format(house1))\n",
        "print(\"house 2: {}\".format(house2))\n",
        "\n",
        "#addition/subtraction - matrices must have the same size\n",
        "print(\"house1 + house2: {}\".format(house1 + house2))\n",
        "print(\"house1 - house2: {}\".format(house1 - house2))"
      ],
      "metadata": {
        "colab": {
          "base_uri": "https://localhost:8080/"
        },
        "id": "ym1fWHyD2DOh",
        "outputId": "66c2c7ce-8d5a-4b5f-a274-dbc158341cde"
      },
      "execution_count": null,
      "outputs": [
        {
          "output_type": "stream",
          "name": "stdout",
          "text": [
            "house 1: [   3    1 1180 5650    1]\n",
            "house 2: [   3    2 1680 8080    1]\n",
            "house1 + house2: [    6     3  2860 13730     2]\n",
            "house1 - house2: [    0    -1  -500 -2430     0]\n"
          ]
        }
      ]
    },
    {
      "cell_type": "code",
      "source": [
        "# vector multiplication: scalar, elementwise, inner product\n",
        "\n",
        "#1. Scalar multiplication\n",
        "house1 = np.array([3,1,1180,5650,1])\n",
        "\n",
        "print(\"house1: {}\".format(house1))\n",
        "print(\"2*house1: {}\".format(house1*2))"
      ],
      "metadata": {
        "colab": {
          "base_uri": "https://localhost:8080/"
        },
        "id": "JlRpTIOc3XtD",
        "outputId": "c27be6d9-842c-4163-a9f3-d0572fb41322"
      },
      "execution_count": null,
      "outputs": [
        {
          "output_type": "stream",
          "name": "stdout",
          "text": [
            "house1: [   3    1 1180 5650    1]\n",
            "2*house1: [    6     2  2360 11300     2]\n"
          ]
        }
      ]
    },
    {
      "cell_type": "code",
      "source": [
        "#2. Element-wise multiplication\n",
        "\n",
        "house1 = np.array([3,1,1180,5650,1])\n",
        "house2 = np.array([3,2,1680,8080,1])\n",
        "\n",
        "print(\"house1 X house2: {}\".format(np.multiply(house1,house2)))"
      ],
      "metadata": {
        "colab": {
          "base_uri": "https://localhost:8080/"
        },
        "id": "8hks6Ex14IWw",
        "outputId": "fce886c8-a11b-4764-bed5-e6e18814152a"
      },
      "execution_count": null,
      "outputs": [
        {
          "output_type": "stream",
          "name": "stdout",
          "text": [
            "house1 X house2: [       9        2  1982400 45652000        1]\n"
          ]
        }
      ]
    },
    {
      "cell_type": "code",
      "source": [
        "#3. Inner product (use for Xw)\n",
        "\n",
        "house1 = np.array([3,1,1180,5650,1])\n",
        "house2 = np.array([3,2,1680,8080,1])\n",
        "\n",
        "print(\"inner product: {}\".format(np.inner(house1, house2)))"
      ],
      "metadata": {
        "colab": {
          "base_uri": "https://localhost:8080/"
        },
        "id": "HF28C_e-4Tz7",
        "outputId": "15e9fb0f-f652-4249-f54f-840cd9646105"
      },
      "execution_count": null,
      "outputs": [
        {
          "output_type": "stream",
          "name": "stdout",
          "text": [
            "inner product: 47634412\n"
          ]
        }
      ]
    },
    {
      "cell_type": "code",
      "source": [
        "#vector norm - magnitude of a vector\n",
        "\n",
        "#l1 norm: ||x||1 = |x1| + |x2| + ... + |xn|\n",
        "#l2 norm (euclidean norm): ||x||2 = sqrt(x1^2 + x2^2 + ... +xn^2)\n",
        "#l infinity norm (Max-norm): ||x||inf = max 1<=i<=d |xi|\n",
        "\n",
        "x = np.array([1,2,3,4])\n",
        "\n",
        "print(\"l1-norm: {}\".format(np.linalg.norm(x, ord=1)))\n",
        "print(\"l2-norm: {}\".format(np.linalg.norm(x, ord=2)))\n",
        "print(\"linf-norm: {}\".format(np.linalg.norm(x, ord=np.inf)))"
      ],
      "metadata": {
        "colab": {
          "base_uri": "https://localhost:8080/"
        },
        "id": "bv4yhDm25_fB",
        "outputId": "b1836dbb-c019-4113-df3a-9b79501e0dbc"
      },
      "execution_count": null,
      "outputs": [
        {
          "output_type": "stream",
          "name": "stdout",
          "text": [
            "l1-norm: 10.0\n",
            "l2-norm: 5.477225575051661\n",
            "linf-norm: 4.0\n"
          ]
        }
      ]
    },
    {
      "cell_type": "code",
      "source": [
        "x = np.array([1,-2,2,0])\n",
        "\n",
        "print(\"l1-norm: {}\".format(np.linalg.norm(x, ord=1)))\n",
        "print(\"l2-norm: {}\".format(np.linalg.norm(x, ord=2)))\n",
        "print(\"linf-norm {}\".format(np.linalg.norm(x,ord=np.inf)))"
      ],
      "metadata": {
        "colab": {
          "base_uri": "https://localhost:8080/"
        },
        "id": "cGv0Sk3r7icl",
        "outputId": "41d4102c-fa50-43c7-a19d-9abee08a3cef"
      },
      "execution_count": null,
      "outputs": [
        {
          "output_type": "stream",
          "name": "stdout",
          "text": [
            "l1-norm: 5.0\n",
            "l2-norm: 3.0\n",
            "linf-norm 2.0\n"
          ]
        }
      ]
    },
    {
      "cell_type": "code",
      "source": [
        "import numpy as np\n",
        "\n",
        "x = np.array([-4,-3,2,1])\n",
        "\n",
        "print(\"l1-norm: {}\".format(np.linalg.norm(x, ord=1)))\n",
        "print(\"l2-norm: {}\".format(np.linalg.norm(x, ord=2)))\n",
        "print(\"linf-norm {}\".format(np.linalg.norm(x,ord=np.inf)))"
      ],
      "metadata": {
        "colab": {
          "base_uri": "https://localhost:8080/"
        },
        "id": "7IJD4zssTZRv",
        "outputId": "81f4c1fc-4f79-4381-ed96-0c874e4301fb"
      },
      "execution_count": null,
      "outputs": [
        {
          "output_type": "stream",
          "name": "stdout",
          "text": [
            "l1-norm: 10.0\n",
            "l2-norm: 5.477225575051661\n",
            "linf-norm 4.0\n"
          ]
        }
      ]
    },
    {
      "cell_type": "code",
      "source": [
        "#orthogonality\n",
        "#orthogonal if inner product = 0"
      ],
      "metadata": {
        "id": "5aPXugAm_MPF"
      },
      "execution_count": null,
      "outputs": []
    },
    {
      "cell_type": "code",
      "source": [
        "#transposition\n",
        "import numpy as np\n",
        "\n",
        "A = np.array([[1,2,3], [4,5,6]])\n",
        "B = np.transpose(A)\n",
        "\n",
        "print(A)\n",
        "print(B)"
      ],
      "metadata": {
        "colab": {
          "base_uri": "https://localhost:8080/"
        },
        "id": "PJEbyPkQGinY",
        "outputId": "b4cf7c0c-5288-4e58-a045-d52dec976c60"
      },
      "execution_count": null,
      "outputs": [
        {
          "output_type": "stream",
          "name": "stdout",
          "text": [
            "[[1 2 3]\n",
            " [4 5 6]]\n",
            "[[1 4]\n",
            " [2 5]\n",
            " [3 6]]\n"
          ]
        }
      ]
    },
    {
      "cell_type": "code",
      "source": [
        "A = np.array([[1,2],[3,4]])\n",
        "B = np.array([[5,6],[7,8]])\n",
        "np.dot(A,B)"
      ],
      "metadata": {
        "colab": {
          "base_uri": "https://localhost:8080/"
        },
        "id": "tyIZel2yP7Uz",
        "outputId": "f22f27a1-43db-41ea-997a-888e0e9db458"
      },
      "execution_count": null,
      "outputs": [
        {
          "output_type": "execute_result",
          "data": {
            "text/plain": [
              "array([[19, 22],\n",
              "       [43, 50]])"
            ]
          },
          "metadata": {},
          "execution_count": 4
        }
      ]
    },
    {
      "cell_type": "markdown",
      "source": [
        "**Gradient descent**\n",
        "\n",
        "> decrease the loss function along the direction of the negative gradient\n",
        "\n",
        "x1 = x - n(grad(f(x)) ; n = learning rate\n",
        "\n",
        "Lin Regress: minw||y - Xw||^2\n",
        "\n",
        "Gradient: -2X^T(y-Xw)\n",
        "\n",
        "Gradient descent: w_t+1 = w_t - n(2X^T(Xw_t-y))"
      ],
      "metadata": {
        "id": "c7uheb2aS-6f"
      }
    }
  ]
}
