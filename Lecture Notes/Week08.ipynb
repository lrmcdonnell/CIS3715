{
  "nbformat": 4,
  "nbformat_minor": 0,
  "metadata": {
    "colab": {
      "provenance": []
    },
    "kernelspec": {
      "name": "python3",
      "display_name": "Python 3"
    },
    "language_info": {
      "name": "python"
    }
  },
  "cells": [
    {
      "cell_type": "markdown",
      "source": [
        "###**Spectral Clustering**\n",
        "\n",
        "* unsupervised learning model\n",
        "* clustering algorithm: find similar groups\n",
        "\n",
        "Why?\n",
        "- Distance-based methods like k-means fail to capture complex geometric structures\n",
        "\n",
        "Basic Idea:\n",
        "- Low dimensional embedding point of view\n",
        "- Obtain data representation in the low-dimensional space that can easily be clustered\n",
        "\n",
        "How to learn this transformation?\n",
        "- similarity graphs\n"
      ],
      "metadata": {
        "id": "6oAuAUYThdhf"
      }
    },
    {
      "cell_type": "markdown",
      "source": [
        "**Similarity Graphs**\n",
        "\n",
        "Model local neighborhood relations between data points\n",
        "\n",
        "- $\\varepsilon$-neighborhood graph: connect all vertices whose pairwise distances are smaller than $\\varepsilon$\n",
        "\n",
        "- $k$-nearest neighbor graph: connect vertex $v_i$ with vertex $v_j$ if $v_j$ is among the $k$-nearest neighbors of $v_i$\n",
        "\n",
        "- fully connected graph: connect all points with positive similarity with each other\n",
        "-----\n"
      ],
      "metadata": {
        "id": "mXfoPQr6hiHO"
      }
    },
    {
      "cell_type": "markdown",
      "source": [
        "**Similarity Matrix**\n",
        "\n",
        "binary matrix of 1s and 0s\n",
        "\n",
        "$W$ = similarity matrix\n",
        "- values on diagonal = 0\n",
        "\n",
        "$D$ = degree matrix\n",
        "\n",
        "- values on diagonal\n",
        "\n",
        "**Laplacian**\n",
        "\n",
        "$L = D - W$\n",
        "\n",
        "Normalized Graph Laplacian\n",
        "\n",
        "$L_{rw} = D^{-1}L = I - D^{-1}W$\n",
        "\n",
        "- eigenvectors are real and orthogonal"
      ],
      "metadata": {
        "id": "Mx-5BLsOtI_0"
      }
    },
    {
      "cell_type": "markdown",
      "source": [
        "**Steps**\n",
        "\n",
        "1. Construct similarity matrix, $W$\n",
        "2. Compute Laplacian Matrix, $L$ ($nxn$)\n",
        "3. Eigen-decomposition to get the first $c$ eigenvectors $U_{nxc}$\n",
        "4. Apply k-means to the $U_{nxc}$ result"
      ],
      "metadata": {
        "id": "iEy8BmOFAVD1"
      }
    }
  ]
}
