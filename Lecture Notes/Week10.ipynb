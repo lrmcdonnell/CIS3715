{
  "nbformat": 4,
  "nbformat_minor": 0,
  "metadata": {
    "colab": {
      "provenance": []
    },
    "kernelspec": {
      "name": "python3",
      "display_name": "Python 3"
    },
    "language_info": {
      "name": "python"
    }
  },
  "cells": [
    {
      "cell_type": "markdown",
      "source": [
        "###**Recommender System**\n",
        "\n",
        "- Rank position is important!\n",
        "  - relevant items are more useful when they appear earlier in the recommendation list\n",
        "  - lower ranked items may be overlooked by users\n",
        "\n",
        "Use precision@K\n",
        "- precision for the top k recommended items\n",
        "\n",
        "Use recall@K\n",
        "- recall for the top k recommended items\n",
        "- could return trivial result\n",
        "\n",
        "**Average Precision (AP)**\n",
        "  \n",
        "- AP@n $= \\frac{1}{GTP}\\sum{precision@k*relevance@k}$\n",
        "\n",
        "- relevance @ k $\\in \\{0,1\\}$\n",
        "\n",
        "- GTP = total number of ground truth positives\n",
        "\n",
        "**Cumulative Gain (CG)**\n",
        "- the sum of the relevance of recommendations\n",
        "- does NOT consider the rank\n",
        "\n",
        "- $CG_{pos} = \\sum{rel_i}$\n",
        "\n",
        "**Discounted Cumulative Gain (DCG)**\n",
        "- logarithmic reduction factor\n",
        "- highly relevant item appearing lower in the recommendation list should be penalized\n",
        "\n",
        "- $DCG_{pos} = rel_1 + \\sum{\\frac{rel_i}{log_2i}}$\n",
        "\n",
        "**Idealized Discounted Cumulative Gain**\n",
        "- assume that items are ordered by decreasing relevance\n",
        "- the maximum possible DCG\n",
        "- $IDCG_{pos} = rel_1 + \\sum{\\frac{rel_i}{log_2i}}$\n",
        "\n",
        "**Normalized Discounted Cumulative Gain (NDCG)**\n",
        "- measures the ranking quality\n",
        "- normalized to $NDCG \\in [0,1]$\n",
        "- $NDCG_{pos} = \\frac{DCG_{pos}}{IDCG_{pos}}$\n"
      ],
      "metadata": {
        "id": "5tNd0a59HlXP"
      }
    },
    {
      "cell_type": "markdown",
      "source": [
        "###**Singular Value Decomposition (SVD)**\n",
        "- model-based\n",
        "- dimensionality reduction\n",
        "\n",
        "- each row of U can be viewed as the representation of a user\n",
        "- each column of V can be viewed as the representation of an item\n",
        "\n",
        "  - $X: m x n$ (m users, n products)\n",
        "  - $U: m x r$ (m users, r factors)\n",
        "  - $S: r x r$, diagonal matrix (strength of each 'factor)\n",
        "  - $V: r x n$ (n products, r factors)\n",
        "\n",
        "- provide a low-rank approximation for the rating matrix\n",
        "\n",
        "**Problems**:\n",
        "- must complete the input matrix: fill with avg rating, 0s, etc.\n",
        "- large portion of missing values\n",
        "- time complexity can be large\n",
        "\n",
        "###**Matrix Completion**\n",
        "- model-based\n",
        "- dimensionality reduction\n",
        "\n",
        "**Steps**:\n",
        "- learn a latent representation (vector) for each user and each item\n",
        "- missing values are estimated by the dot product\n",
        "\n",
        "**Example**\n",
        "- assume the dimensionality of the latent representation is 1\n",
        "- loss function: $min_{Q,P}\\sum{(v_{ij}-[Q^TP]_{ij})^2}$\n",
        "- introduce bias and regularization:\n",
        "- $min_{Q,P,u,m}\\sum{(v_{ij}-\\mu-u_i-m_j-[Q^TP]_{ij})^2} + \\lambda(||Q|| + ||P|| + ||u|| + ||m||)$\n",
        "  - $\\mu$ = average rating over all items\n",
        "  - $m_j$ = bias for the j-th term\n",
        "  - $u_i$ = bias for the i-th user\n",
        "\n",
        "- Optimization (simple case): $L_{ij}(P,Q) = (r_{ij} - p_iq_j)^2$\n"
      ],
      "metadata": {
        "id": "BPiW9EIVXJL2"
      }
    }
  ]
}
